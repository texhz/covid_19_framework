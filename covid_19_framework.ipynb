{
  "cells": [
    {
      "cell_type": "markdown",
      "metadata": {
        "id": "view-in-github",
        "colab_type": "text"
      },
      "source": [
        "<a href=\"https://colab.research.google.com/github/texhz/covid_19_framework/blob/main/covid_19_framework.ipynb\" target=\"_parent\"><img src=\"https://colab.research.google.com/assets/colab-badge.svg\" alt=\"Open In Colab\"/></a>"
      ]
    },
    {
      "cell_type": "markdown",
      "metadata": {
        "id": "k2Jy0ePOXYPE"
      },
      "source": [
        "# Importing Libraries"
      ]
    },
    {
      "cell_type": "code",
      "source": [
        "!git clone \"https://github.com/texhz/covid_19_framework.git\"\n",
        "%cd covid_19_framework"
      ],
      "metadata": {
        "colab": {
          "base_uri": "https://localhost:8080/"
        },
        "id": "07mgK00YXhhp",
        "outputId": "91df22d3-fa45-44aa-fb25-af2dc7b2ebd7"
      },
      "execution_count": 3,
      "outputs": [
        {
          "output_type": "stream",
          "name": "stdout",
          "text": [
            "Cloning into 'covid_19_framework'...\n",
            "remote: Enumerating objects: 62, done.\u001b[K\n",
            "remote: Counting objects: 100% (62/62), done.\u001b[K\n",
            "remote: Compressing objects: 100% (43/43), done.\u001b[K\n",
            "remote: Total 62 (delta 19), reused 51 (delta 13), pack-reused 0\u001b[K\n",
            "Unpacking objects: 100% (62/62), done.\n",
            "/content/covid_19_framework\n"
          ]
        }
      ]
    },
    {
      "cell_type": "code",
      "execution_count": 28,
      "metadata": {
        "_cell_guid": "79c7e3d0-c299-4dcb-8224-4455121ee9b0",
        "_uuid": "d629ff2d2480ee46fbb7e2d37f6b5fab8052498a",
        "trusted": true,
        "id": "6JVq6WUnXYPG"
      },
      "outputs": [],
      "source": [
        "import pandas as pd\n",
        "import numpy as np\n",
        "import missingno as msno\n",
        "import seaborn as sns\n",
        "import matplotlib.pyplot as plt\n",
        "from sklearn.preprocessing import StandardScaler , Normalizer\n",
        "from sklearn.cluster import KMeans\n",
        "from sklearn.decomposition import PCA\n",
        "from scipy.stats import norm\n",
        "from scipy import stats\n",
        "from sklearn import metrics\n",
        "import warnings\n",
        "warnings.filterwarnings('ignore')\n",
        "%matplotlib inline"
      ]
    },
    {
      "cell_type": "markdown",
      "metadata": {
        "id": "GYPu2GXIXYPH"
      },
      "source": [
        "# Covid 19 Detection Framework"
      ]
    },
    {
      "cell_type": "code",
      "execution_count": 29,
      "metadata": {
        "trusted": true,
        "id": "KYSTTCOmXYPI"
      },
      "outputs": [],
      "source": [
        "covid_data_1 = pd.read_csv(r\"data/Cleaned-Data.csv\")\n",
        "\n",
        "pd.pandas.set_option('display.max_columns',None)"
      ]
    },
    {
      "cell_type": "markdown",
      "metadata": {
        "id": "pLtk0uK3XYPI"
      },
      "source": [
        "# Visualization"
      ]
    },
    {
      "cell_type": "markdown",
      "metadata": {
        "id": "xZJgCFlQXYPI"
      },
      "source": [
        "## Full Data"
      ]
    },
    {
      "cell_type": "code",
      "execution_count": 30,
      "metadata": {
        "trusted": true,
        "colab": {
          "base_uri": "https://localhost:8080/",
          "height": 541
        },
        "id": "4SWADB77XYPI",
        "outputId": "87cd31ac-8a6d-4fd1-ff47-39929cc2b679"
      },
      "outputs": [
        {
          "output_type": "display_data",
          "data": {
            "text/plain": [
              "'Peeking into Data'"
            ],
            "application/vnd.google.colaboratory.intrinsic+json": {
              "type": "string"
            }
          },
          "metadata": {}
        },
        {
          "output_type": "display_data",
          "data": {
            "text/plain": [
              "        Fever  Tiredness  Dry-Cough  Difficulty-in-Breathing  Sore-Throat  \\\n",
              "0           1          1          1                        1            1   \n",
              "1           1          1          1                        1            1   \n",
              "2           1          1          1                        1            1   \n",
              "3           1          1          1                        1            1   \n",
              "4           1          1          1                        1            1   \n",
              "...       ...        ...        ...                      ...          ...   \n",
              "316795      0          0          0                        0            0   \n",
              "316796      0          0          0                        0            0   \n",
              "316797      0          0          0                        0            0   \n",
              "316798      0          0          0                        0            0   \n",
              "316799      0          0          0                        0            0   \n",
              "\n",
              "        None_Sympton  Pains  Nasal-Congestion  Runny-Nose  Diarrhea  \\\n",
              "0                  0      1                 1           1         1   \n",
              "1                  0      1                 1           1         1   \n",
              "2                  0      1                 1           1         1   \n",
              "3                  0      1                 1           1         1   \n",
              "4                  0      1                 1           1         1   \n",
              "...              ...    ...               ...         ...       ...   \n",
              "316795             1      0                 0           0         0   \n",
              "316796             1      0                 0           0         0   \n",
              "316797             1      0                 0           0         0   \n",
              "316798             1      0                 0           0         0   \n",
              "316799             1      0                 0           0         0   \n",
              "\n",
              "        None_Experiencing  Age_0-9  Age_10-19  Age_20-24  Age_25-59  Age_60+  \\\n",
              "0                       0        1          0          0          0        0   \n",
              "1                       0        1          0          0          0        0   \n",
              "2                       0        1          0          0          0        0   \n",
              "3                       0        1          0          0          0        0   \n",
              "4                       0        1          0          0          0        0   \n",
              "...                   ...      ...        ...        ...        ...      ...   \n",
              "316795                  1        0          0          0          0        1   \n",
              "316796                  1        0          0          0          0        1   \n",
              "316797                  1        0          0          0          0        1   \n",
              "316798                  1        0          0          0          0        1   \n",
              "316799                  1        0          0          0          0        1   \n",
              "\n",
              "        Gender_Female  Gender_Male  Gender_Transgender  Severity_Mild  \\\n",
              "0                   0            1                   0              1   \n",
              "1                   0            1                   0              1   \n",
              "2                   0            1                   0              1   \n",
              "3                   0            1                   0              0   \n",
              "4                   0            1                   0              0   \n",
              "...               ...          ...                 ...            ...   \n",
              "316795              0            0                   1              0   \n",
              "316796              0            0                   1              0   \n",
              "316797              0            0                   1              0   \n",
              "316798              0            0                   1              0   \n",
              "316799              0            0                   1              0   \n",
              "\n",
              "        Severity_Moderate  Severity_None  Severity_Severe  Contact_Dont-Know  \\\n",
              "0                       0              0                0                  0   \n",
              "1                       0              0                0                  0   \n",
              "2                       0              0                0                  1   \n",
              "3                       1              0                0                  0   \n",
              "4                       1              0                0                  0   \n",
              "...                   ...            ...              ...                ...   \n",
              "316795                  0              0                1                  0   \n",
              "316796                  0              0                1                  1   \n",
              "316797                  0              1                0                  0   \n",
              "316798                  0              1                0                  0   \n",
              "316799                  0              1                0                  1   \n",
              "\n",
              "        Contact_No  Contact_Yes Country  Covid  \n",
              "0                0            1   China      1  \n",
              "1                1            0   China      1  \n",
              "2                0            0   China      1  \n",
              "3                0            1   China      1  \n",
              "4                1            0   China      1  \n",
              "...            ...          ...     ...    ...  \n",
              "316795           1            0   Other      1  \n",
              "316796           0            0   Other      1  \n",
              "316797           0            1   Other      1  \n",
              "316798           1            0   Other      1  \n",
              "316799           0            0   Other      1  \n",
              "\n",
              "[316800 rows x 28 columns]"
            ],
            "text/html": [
              "\n",
              "  <div id=\"df-4aba87e6-9ff1-4e04-8960-a16ddea33fea\">\n",
              "    <div class=\"colab-df-container\">\n",
              "      <div>\n",
              "<style scoped>\n",
              "    .dataframe tbody tr th:only-of-type {\n",
              "        vertical-align: middle;\n",
              "    }\n",
              "\n",
              "    .dataframe tbody tr th {\n",
              "        vertical-align: top;\n",
              "    }\n",
              "\n",
              "    .dataframe thead th {\n",
              "        text-align: right;\n",
              "    }\n",
              "</style>\n",
              "<table border=\"1\" class=\"dataframe\">\n",
              "  <thead>\n",
              "    <tr style=\"text-align: right;\">\n",
              "      <th></th>\n",
              "      <th>Fever</th>\n",
              "      <th>Tiredness</th>\n",
              "      <th>Dry-Cough</th>\n",
              "      <th>Difficulty-in-Breathing</th>\n",
              "      <th>Sore-Throat</th>\n",
              "      <th>None_Sympton</th>\n",
              "      <th>Pains</th>\n",
              "      <th>Nasal-Congestion</th>\n",
              "      <th>Runny-Nose</th>\n",
              "      <th>Diarrhea</th>\n",
              "      <th>None_Experiencing</th>\n",
              "      <th>Age_0-9</th>\n",
              "      <th>Age_10-19</th>\n",
              "      <th>Age_20-24</th>\n",
              "      <th>Age_25-59</th>\n",
              "      <th>Age_60+</th>\n",
              "      <th>Gender_Female</th>\n",
              "      <th>Gender_Male</th>\n",
              "      <th>Gender_Transgender</th>\n",
              "      <th>Severity_Mild</th>\n",
              "      <th>Severity_Moderate</th>\n",
              "      <th>Severity_None</th>\n",
              "      <th>Severity_Severe</th>\n",
              "      <th>Contact_Dont-Know</th>\n",
              "      <th>Contact_No</th>\n",
              "      <th>Contact_Yes</th>\n",
              "      <th>Country</th>\n",
              "      <th>Covid</th>\n",
              "    </tr>\n",
              "  </thead>\n",
              "  <tbody>\n",
              "    <tr>\n",
              "      <th>0</th>\n",
              "      <td>1</td>\n",
              "      <td>1</td>\n",
              "      <td>1</td>\n",
              "      <td>1</td>\n",
              "      <td>1</td>\n",
              "      <td>0</td>\n",
              "      <td>1</td>\n",
              "      <td>1</td>\n",
              "      <td>1</td>\n",
              "      <td>1</td>\n",
              "      <td>0</td>\n",
              "      <td>1</td>\n",
              "      <td>0</td>\n",
              "      <td>0</td>\n",
              "      <td>0</td>\n",
              "      <td>0</td>\n",
              "      <td>0</td>\n",
              "      <td>1</td>\n",
              "      <td>0</td>\n",
              "      <td>1</td>\n",
              "      <td>0</td>\n",
              "      <td>0</td>\n",
              "      <td>0</td>\n",
              "      <td>0</td>\n",
              "      <td>0</td>\n",
              "      <td>1</td>\n",
              "      <td>China</td>\n",
              "      <td>1</td>\n",
              "    </tr>\n",
              "    <tr>\n",
              "      <th>1</th>\n",
              "      <td>1</td>\n",
              "      <td>1</td>\n",
              "      <td>1</td>\n",
              "      <td>1</td>\n",
              "      <td>1</td>\n",
              "      <td>0</td>\n",
              "      <td>1</td>\n",
              "      <td>1</td>\n",
              "      <td>1</td>\n",
              "      <td>1</td>\n",
              "      <td>0</td>\n",
              "      <td>1</td>\n",
              "      <td>0</td>\n",
              "      <td>0</td>\n",
              "      <td>0</td>\n",
              "      <td>0</td>\n",
              "      <td>0</td>\n",
              "      <td>1</td>\n",
              "      <td>0</td>\n",
              "      <td>1</td>\n",
              "      <td>0</td>\n",
              "      <td>0</td>\n",
              "      <td>0</td>\n",
              "      <td>0</td>\n",
              "      <td>1</td>\n",
              "      <td>0</td>\n",
              "      <td>China</td>\n",
              "      <td>1</td>\n",
              "    </tr>\n",
              "    <tr>\n",
              "      <th>2</th>\n",
              "      <td>1</td>\n",
              "      <td>1</td>\n",
              "      <td>1</td>\n",
              "      <td>1</td>\n",
              "      <td>1</td>\n",
              "      <td>0</td>\n",
              "      <td>1</td>\n",
              "      <td>1</td>\n",
              "      <td>1</td>\n",
              "      <td>1</td>\n",
              "      <td>0</td>\n",
              "      <td>1</td>\n",
              "      <td>0</td>\n",
              "      <td>0</td>\n",
              "      <td>0</td>\n",
              "      <td>0</td>\n",
              "      <td>0</td>\n",
              "      <td>1</td>\n",
              "      <td>0</td>\n",
              "      <td>1</td>\n",
              "      <td>0</td>\n",
              "      <td>0</td>\n",
              "      <td>0</td>\n",
              "      <td>1</td>\n",
              "      <td>0</td>\n",
              "      <td>0</td>\n",
              "      <td>China</td>\n",
              "      <td>1</td>\n",
              "    </tr>\n",
              "    <tr>\n",
              "      <th>3</th>\n",
              "      <td>1</td>\n",
              "      <td>1</td>\n",
              "      <td>1</td>\n",
              "      <td>1</td>\n",
              "      <td>1</td>\n",
              "      <td>0</td>\n",
              "      <td>1</td>\n",
              "      <td>1</td>\n",
              "      <td>1</td>\n",
              "      <td>1</td>\n",
              "      <td>0</td>\n",
              "      <td>1</td>\n",
              "      <td>0</td>\n",
              "      <td>0</td>\n",
              "      <td>0</td>\n",
              "      <td>0</td>\n",
              "      <td>0</td>\n",
              "      <td>1</td>\n",
              "      <td>0</td>\n",
              "      <td>0</td>\n",
              "      <td>1</td>\n",
              "      <td>0</td>\n",
              "      <td>0</td>\n",
              "      <td>0</td>\n",
              "      <td>0</td>\n",
              "      <td>1</td>\n",
              "      <td>China</td>\n",
              "      <td>1</td>\n",
              "    </tr>\n",
              "    <tr>\n",
              "      <th>4</th>\n",
              "      <td>1</td>\n",
              "      <td>1</td>\n",
              "      <td>1</td>\n",
              "      <td>1</td>\n",
              "      <td>1</td>\n",
              "      <td>0</td>\n",
              "      <td>1</td>\n",
              "      <td>1</td>\n",
              "      <td>1</td>\n",
              "      <td>1</td>\n",
              "      <td>0</td>\n",
              "      <td>1</td>\n",
              "      <td>0</td>\n",
              "      <td>0</td>\n",
              "      <td>0</td>\n",
              "      <td>0</td>\n",
              "      <td>0</td>\n",
              "      <td>1</td>\n",
              "      <td>0</td>\n",
              "      <td>0</td>\n",
              "      <td>1</td>\n",
              "      <td>0</td>\n",
              "      <td>0</td>\n",
              "      <td>0</td>\n",
              "      <td>1</td>\n",
              "      <td>0</td>\n",
              "      <td>China</td>\n",
              "      <td>1</td>\n",
              "    </tr>\n",
              "    <tr>\n",
              "      <th>...</th>\n",
              "      <td>...</td>\n",
              "      <td>...</td>\n",
              "      <td>...</td>\n",
              "      <td>...</td>\n",
              "      <td>...</td>\n",
              "      <td>...</td>\n",
              "      <td>...</td>\n",
              "      <td>...</td>\n",
              "      <td>...</td>\n",
              "      <td>...</td>\n",
              "      <td>...</td>\n",
              "      <td>...</td>\n",
              "      <td>...</td>\n",
              "      <td>...</td>\n",
              "      <td>...</td>\n",
              "      <td>...</td>\n",
              "      <td>...</td>\n",
              "      <td>...</td>\n",
              "      <td>...</td>\n",
              "      <td>...</td>\n",
              "      <td>...</td>\n",
              "      <td>...</td>\n",
              "      <td>...</td>\n",
              "      <td>...</td>\n",
              "      <td>...</td>\n",
              "      <td>...</td>\n",
              "      <td>...</td>\n",
              "      <td>...</td>\n",
              "    </tr>\n",
              "    <tr>\n",
              "      <th>316795</th>\n",
              "      <td>0</td>\n",
              "      <td>0</td>\n",
              "      <td>0</td>\n",
              "      <td>0</td>\n",
              "      <td>0</td>\n",
              "      <td>1</td>\n",
              "      <td>0</td>\n",
              "      <td>0</td>\n",
              "      <td>0</td>\n",
              "      <td>0</td>\n",
              "      <td>1</td>\n",
              "      <td>0</td>\n",
              "      <td>0</td>\n",
              "      <td>0</td>\n",
              "      <td>0</td>\n",
              "      <td>1</td>\n",
              "      <td>0</td>\n",
              "      <td>0</td>\n",
              "      <td>1</td>\n",
              "      <td>0</td>\n",
              "      <td>0</td>\n",
              "      <td>0</td>\n",
              "      <td>1</td>\n",
              "      <td>0</td>\n",
              "      <td>1</td>\n",
              "      <td>0</td>\n",
              "      <td>Other</td>\n",
              "      <td>1</td>\n",
              "    </tr>\n",
              "    <tr>\n",
              "      <th>316796</th>\n",
              "      <td>0</td>\n",
              "      <td>0</td>\n",
              "      <td>0</td>\n",
              "      <td>0</td>\n",
              "      <td>0</td>\n",
              "      <td>1</td>\n",
              "      <td>0</td>\n",
              "      <td>0</td>\n",
              "      <td>0</td>\n",
              "      <td>0</td>\n",
              "      <td>1</td>\n",
              "      <td>0</td>\n",
              "      <td>0</td>\n",
              "      <td>0</td>\n",
              "      <td>0</td>\n",
              "      <td>1</td>\n",
              "      <td>0</td>\n",
              "      <td>0</td>\n",
              "      <td>1</td>\n",
              "      <td>0</td>\n",
              "      <td>0</td>\n",
              "      <td>0</td>\n",
              "      <td>1</td>\n",
              "      <td>1</td>\n",
              "      <td>0</td>\n",
              "      <td>0</td>\n",
              "      <td>Other</td>\n",
              "      <td>1</td>\n",
              "    </tr>\n",
              "    <tr>\n",
              "      <th>316797</th>\n",
              "      <td>0</td>\n",
              "      <td>0</td>\n",
              "      <td>0</td>\n",
              "      <td>0</td>\n",
              "      <td>0</td>\n",
              "      <td>1</td>\n",
              "      <td>0</td>\n",
              "      <td>0</td>\n",
              "      <td>0</td>\n",
              "      <td>0</td>\n",
              "      <td>1</td>\n",
              "      <td>0</td>\n",
              "      <td>0</td>\n",
              "      <td>0</td>\n",
              "      <td>0</td>\n",
              "      <td>1</td>\n",
              "      <td>0</td>\n",
              "      <td>0</td>\n",
              "      <td>1</td>\n",
              "      <td>0</td>\n",
              "      <td>0</td>\n",
              "      <td>1</td>\n",
              "      <td>0</td>\n",
              "      <td>0</td>\n",
              "      <td>0</td>\n",
              "      <td>1</td>\n",
              "      <td>Other</td>\n",
              "      <td>1</td>\n",
              "    </tr>\n",
              "    <tr>\n",
              "      <th>316798</th>\n",
              "      <td>0</td>\n",
              "      <td>0</td>\n",
              "      <td>0</td>\n",
              "      <td>0</td>\n",
              "      <td>0</td>\n",
              "      <td>1</td>\n",
              "      <td>0</td>\n",
              "      <td>0</td>\n",
              "      <td>0</td>\n",
              "      <td>0</td>\n",
              "      <td>1</td>\n",
              "      <td>0</td>\n",
              "      <td>0</td>\n",
              "      <td>0</td>\n",
              "      <td>0</td>\n",
              "      <td>1</td>\n",
              "      <td>0</td>\n",
              "      <td>0</td>\n",
              "      <td>1</td>\n",
              "      <td>0</td>\n",
              "      <td>0</td>\n",
              "      <td>1</td>\n",
              "      <td>0</td>\n",
              "      <td>0</td>\n",
              "      <td>1</td>\n",
              "      <td>0</td>\n",
              "      <td>Other</td>\n",
              "      <td>1</td>\n",
              "    </tr>\n",
              "    <tr>\n",
              "      <th>316799</th>\n",
              "      <td>0</td>\n",
              "      <td>0</td>\n",
              "      <td>0</td>\n",
              "      <td>0</td>\n",
              "      <td>0</td>\n",
              "      <td>1</td>\n",
              "      <td>0</td>\n",
              "      <td>0</td>\n",
              "      <td>0</td>\n",
              "      <td>0</td>\n",
              "      <td>1</td>\n",
              "      <td>0</td>\n",
              "      <td>0</td>\n",
              "      <td>0</td>\n",
              "      <td>0</td>\n",
              "      <td>1</td>\n",
              "      <td>0</td>\n",
              "      <td>0</td>\n",
              "      <td>1</td>\n",
              "      <td>0</td>\n",
              "      <td>0</td>\n",
              "      <td>1</td>\n",
              "      <td>0</td>\n",
              "      <td>1</td>\n",
              "      <td>0</td>\n",
              "      <td>0</td>\n",
              "      <td>Other</td>\n",
              "      <td>1</td>\n",
              "    </tr>\n",
              "  </tbody>\n",
              "</table>\n",
              "<p>316800 rows × 28 columns</p>\n",
              "</div>\n",
              "      <button class=\"colab-df-convert\" onclick=\"convertToInteractive('df-4aba87e6-9ff1-4e04-8960-a16ddea33fea')\"\n",
              "              title=\"Convert this dataframe to an interactive table.\"\n",
              "              style=\"display:none;\">\n",
              "        \n",
              "  <svg xmlns=\"http://www.w3.org/2000/svg\" height=\"24px\"viewBox=\"0 0 24 24\"\n",
              "       width=\"24px\">\n",
              "    <path d=\"M0 0h24v24H0V0z\" fill=\"none\"/>\n",
              "    <path d=\"M18.56 5.44l.94 2.06.94-2.06 2.06-.94-2.06-.94-.94-2.06-.94 2.06-2.06.94zm-11 1L8.5 8.5l.94-2.06 2.06-.94-2.06-.94L8.5 2.5l-.94 2.06-2.06.94zm10 10l.94 2.06.94-2.06 2.06-.94-2.06-.94-.94-2.06-.94 2.06-2.06.94z\"/><path d=\"M17.41 7.96l-1.37-1.37c-.4-.4-.92-.59-1.43-.59-.52 0-1.04.2-1.43.59L10.3 9.45l-7.72 7.72c-.78.78-.78 2.05 0 2.83L4 21.41c.39.39.9.59 1.41.59.51 0 1.02-.2 1.41-.59l7.78-7.78 2.81-2.81c.8-.78.8-2.07 0-2.86zM5.41 20L4 18.59l7.72-7.72 1.47 1.35L5.41 20z\"/>\n",
              "  </svg>\n",
              "      </button>\n",
              "      \n",
              "  <style>\n",
              "    .colab-df-container {\n",
              "      display:flex;\n",
              "      flex-wrap:wrap;\n",
              "      gap: 12px;\n",
              "    }\n",
              "\n",
              "    .colab-df-convert {\n",
              "      background-color: #E8F0FE;\n",
              "      border: none;\n",
              "      border-radius: 50%;\n",
              "      cursor: pointer;\n",
              "      display: none;\n",
              "      fill: #1967D2;\n",
              "      height: 32px;\n",
              "      padding: 0 0 0 0;\n",
              "      width: 32px;\n",
              "    }\n",
              "\n",
              "    .colab-df-convert:hover {\n",
              "      background-color: #E2EBFA;\n",
              "      box-shadow: 0px 1px 2px rgba(60, 64, 67, 0.3), 0px 1px 3px 1px rgba(60, 64, 67, 0.15);\n",
              "      fill: #174EA6;\n",
              "    }\n",
              "\n",
              "    [theme=dark] .colab-df-convert {\n",
              "      background-color: #3B4455;\n",
              "      fill: #D2E3FC;\n",
              "    }\n",
              "\n",
              "    [theme=dark] .colab-df-convert:hover {\n",
              "      background-color: #434B5C;\n",
              "      box-shadow: 0px 1px 3px 1px rgba(0, 0, 0, 0.15);\n",
              "      filter: drop-shadow(0px 1px 2px rgba(0, 0, 0, 0.3));\n",
              "      fill: #FFFFFF;\n",
              "    }\n",
              "  </style>\n",
              "\n",
              "      <script>\n",
              "        const buttonEl =\n",
              "          document.querySelector('#df-4aba87e6-9ff1-4e04-8960-a16ddea33fea button.colab-df-convert');\n",
              "        buttonEl.style.display =\n",
              "          google.colab.kernel.accessAllowed ? 'block' : 'none';\n",
              "\n",
              "        async function convertToInteractive(key) {\n",
              "          const element = document.querySelector('#df-4aba87e6-9ff1-4e04-8960-a16ddea33fea');\n",
              "          const dataTable =\n",
              "            await google.colab.kernel.invokeFunction('convertToInteractive',\n",
              "                                                     [key], {});\n",
              "          if (!dataTable) return;\n",
              "\n",
              "          const docLinkHtml = 'Like what you see? Visit the ' +\n",
              "            '<a target=\"_blank\" href=https://colab.research.google.com/notebooks/data_table.ipynb>data table notebook</a>'\n",
              "            + ' to learn more about interactive tables.';\n",
              "          element.innerHTML = '';\n",
              "          dataTable['output_type'] = 'display_data';\n",
              "          await google.colab.output.renderOutput(dataTable, element);\n",
              "          const docLink = document.createElement('div');\n",
              "          docLink.innerHTML = docLinkHtml;\n",
              "          element.appendChild(docLink);\n",
              "        }\n",
              "      </script>\n",
              "    </div>\n",
              "  </div>\n",
              "  "
            ]
          },
          "metadata": {}
        }
      ],
      "source": [
        "display(\"Peeking into Data\", covid_data_1)"
      ]
    },
    {
      "cell_type": "code",
      "execution_count": 31,
      "metadata": {
        "trusted": true,
        "colab": {
          "base_uri": "https://localhost:8080/",
          "height": 70
        },
        "id": "t0RhET5VXYPJ",
        "outputId": "22fa09ee-da84-4cbc-b97f-f844a17eee14"
      },
      "outputs": [
        {
          "output_type": "display_data",
          "data": {
            "text/plain": [
              "'Shape of dataset'"
            ],
            "application/vnd.google.colaboratory.intrinsic+json": {
              "type": "string"
            }
          },
          "metadata": {}
        },
        {
          "output_type": "stream",
          "name": "stdout",
          "text": [
            "Rows: 316800 \n",
            "Columns: 28\n"
          ]
        }
      ],
      "source": [
        "display(\"Shape of dataset\")\n",
        "print(\"Rows:\",covid_data_1.shape[0],\"\\nColumns:\",covid_data_1.shape[1])"
      ]
    },
    {
      "cell_type": "markdown",
      "metadata": {
        "id": "DrzbsXqIXYPK"
      },
      "source": [
        "## Data Distribution"
      ]
    },
    {
      "cell_type": "code",
      "execution_count": 32,
      "metadata": {
        "trusted": true,
        "id": "Vr5X8cRFXYPL"
      },
      "outputs": [],
      "source": [
        "severity_columns = covid_data_1.filter(like='Severity_').columns"
      ]
    },
    {
      "cell_type": "code",
      "execution_count": 33,
      "metadata": {
        "trusted": true,
        "id": "cUJPXzD-XYPL"
      },
      "outputs": [],
      "source": [
        "covid_data_1['Severity_None'].replace({1:'None',0:'No'},inplace =True)\n",
        "covid_data_1['Severity_Mild'].replace({1:'Mild',0:'No'},inplace =True)\n",
        "covid_data_1['Severity_Moderate'].replace({1:'Moderate',0:'No'},inplace =True)\n",
        "covid_data_1['Severity_Severe'].replace({1:'Severe',0:'No'},inplace =True)"
      ]
    },
    {
      "cell_type": "code",
      "execution_count": 34,
      "metadata": {
        "trusted": true,
        "id": "Wygo5r5GXYPL"
      },
      "outputs": [],
      "source": [
        "covid_data_1['Covid']=covid_data_1[severity_columns].values.tolist()"
      ]
    },
    {
      "cell_type": "code",
      "execution_count": 35,
      "metadata": {
        "trusted": true,
        "id": "BMZ4uWGwXYPL"
      },
      "outputs": [],
      "source": [
        "def removing(list1):\n",
        "    list1 = set(list1) \n",
        "    list1.discard(\"No\")\n",
        "    a = ''.join(list1)\n",
        "    return a"
      ]
    },
    {
      "cell_type": "code",
      "execution_count": 36,
      "metadata": {
        "trusted": true,
        "id": "o3UKSlbBXYPM"
      },
      "outputs": [],
      "source": [
        "covid_data_1['Covid'] = covid_data_1['Covid'].apply(removing)"
      ]
    },
    {
      "cell_type": "markdown",
      "metadata": {
        "id": "QhFaOcXVXYPM"
      },
      "source": [
        "## Grouping"
      ]
    },
    {
      "cell_type": "code",
      "execution_count": 37,
      "metadata": {
        "trusted": true,
        "id": "G8UVmoZjXYPM"
      },
      "outputs": [],
      "source": [
        "age_columns = covid_data_1.filter(like='Age_').columns\n",
        "gender_columns = covid_data_1.filter(like='Gender_').columns\n",
        "contact_columns = covid_data_1.filter(like='Contact_').columns"
      ]
    },
    {
      "cell_type": "code",
      "execution_count": 38,
      "metadata": {
        "trusted": true,
        "id": "gora2KaWXYPM"
      },
      "outputs": [],
      "source": [
        "No_risk_age = covid_data_1.groupby(['Severity_None'])[age_columns].sum()\n",
        "No_risk_gender = covid_data_1.groupby(['Severity_None'])[gender_columns].sum()\n",
        "No_risk_contact = covid_data_1.groupby(['Severity_None'])[contact_columns].sum()"
      ]
    },
    {
      "cell_type": "code",
      "execution_count": 39,
      "metadata": {
        "trusted": true,
        "id": "VbVLnygwXYPN"
      },
      "outputs": [],
      "source": [
        "Low_risk_age = covid_data_1.groupby(['Severity_Mild'])[age_columns].sum()\n",
        "Low_risk_gender = covid_data_1.groupby(['Severity_Mild'])[gender_columns].sum()\n",
        "Low_risk_contact = covid_data_1.groupby(['Severity_Mild'])[contact_columns].sum()"
      ]
    },
    {
      "cell_type": "code",
      "execution_count": 40,
      "metadata": {
        "trusted": true,
        "id": "TrSks-5VXYPN"
      },
      "outputs": [],
      "source": [
        "Moderate_risk_age = covid_data_1.groupby(['Severity_Moderate'])[age_columns].sum()\n",
        "Moderate_risk_gender = covid_data_1.groupby(['Severity_Moderate'])[gender_columns].sum()\n",
        "Moderate_risk_contact = covid_data_1.groupby(['Severity_Moderate'])[contact_columns].sum()"
      ]
    },
    {
      "cell_type": "code",
      "execution_count": 41,
      "metadata": {
        "trusted": true,
        "id": "qF6EbV1hXYPN"
      },
      "outputs": [],
      "source": [
        "Severe_risk_age = covid_data_1.groupby(['Severity_Severe'])[age_columns].sum()\n",
        "Severe_risk_gender = covid_data_1.groupby(['Severity_Severe'])[gender_columns].sum()\n",
        "Severe_risk_contact = covid_data_1.groupby(['Severity_Severe'])[contact_columns].sum()"
      ]
    },
    {
      "cell_type": "code",
      "execution_count": 42,
      "metadata": {
        "trusted": true,
        "colab": {
          "base_uri": "https://localhost:8080/",
          "height": 0
        },
        "id": "TgZEnu3ZXYPN",
        "outputId": "342ad3b0-cdfa-4a47-80c6-13e87ba0066d"
      },
      "outputs": [
        {
          "output_type": "execute_result",
          "data": {
            "text/plain": [
              "<matplotlib.axes._subplots.AxesSubplot at 0x7f4180636950>"
            ]
          },
          "metadata": {},
          "execution_count": 42
        },
        {
          "output_type": "display_data",
          "data": {
            "text/plain": [
              "<Figure size 432x288 with 1 Axes>"
            ],
            "image/png": "[encoded data removed]"
          },
          "metadata": {
            "needs_background": "light"
          }
        }
      ],
      "source": [
        "sns.countplot(covid_data_1['Covid'])"
      ]
    },
    {
      "cell_type": "markdown",
      "metadata": {
        "id": "jg1Sj1f2XYPN"
      },
      "source": [
        "# Variable management"
      ]
    },
    {
      "cell_type": "code",
      "execution_count": 43,
      "metadata": {
        "trusted": true,
        "id": "5V-MgWxXXYPN"
      },
      "outputs": [],
      "source": [
        "covid_data_1.drop(\"Country\",axis=1,inplace=True)"
      ]
    },
    {
      "cell_type": "code",
      "execution_count": 44,
      "metadata": {
        "trusted": true,
        "id": "S3AitLmRXYPO"
      },
      "outputs": [],
      "source": [
        "covid_data_1.drop(severity_columns,axis=1,inplace=True)"
      ]
    },
    {
      "cell_type": "code",
      "execution_count": 45,
      "metadata": {
        "trusted": true,
        "id": "8EfBzXrVXYPO"
      },
      "outputs": [],
      "source": [
        "covid_data_1['Symptoms_Score'] = covid_data_1.iloc[:,:5].sum(axis=1) + covid_data_1.iloc[:,6:10].sum(axis=1)"
      ]
    },
    {
      "cell_type": "code",
      "execution_count": 46,
      "metadata": {
        "trusted": true,
        "colab": {
          "base_uri": "https://localhost:8080/"
        },
        "id": "YHn4Nk14XYPO",
        "outputId": "266599f3-c559-4ee6-c62d-e108f59d9bd0"
      },
      "outputs": [
        {
          "output_type": "execute_result",
          "data": {
            "text/plain": [
              "(316800, 24)"
            ]
          },
          "metadata": {},
          "execution_count": 46
        }
      ],
      "source": [
        "covid_data_1.shape"
      ]
    },
    {
      "cell_type": "code",
      "execution_count": 47,
      "metadata": {
        "trusted": true,
        "id": "k3Idx1oAXYPO"
      },
      "outputs": [],
      "source": [
        "from sklearn import preprocessing\n",
        "le = preprocessing.LabelEncoder()\n",
        "covid_data_1['Covid'] = le.fit_transform(covid_data_1['Covid'])"
      ]
    },
    {
      "cell_type": "code",
      "execution_count": 48,
      "metadata": {
        "trusted": true,
        "colab": {
          "base_uri": "https://localhost:8080/",
          "height": 0
        },
        "id": "ido4So6RXYPO",
        "outputId": "996cda47-b805-4f21-de9f-ea38cec54c0d"
      },
      "outputs": [
        {
          "output_type": "execute_result",
          "data": {
            "text/plain": [
              "        Fever  Tiredness  Dry-Cough  Difficulty-in-Breathing  Sore-Throat  \\\n",
              "0           1          1          1                        1            1   \n",
              "1           1          1          1                        1            1   \n",
              "2           1          1          1                        1            1   \n",
              "3           1          1          1                        1            1   \n",
              "4           1          1          1                        1            1   \n",
              "...       ...        ...        ...                      ...          ...   \n",
              "316795      0          0          0                        0            0   \n",
              "316796      0          0          0                        0            0   \n",
              "316797      0          0          0                        0            0   \n",
              "316798      0          0          0                        0            0   \n",
              "316799      0          0          0                        0            0   \n",
              "\n",
              "        None_Sympton  Pains  Nasal-Congestion  Runny-Nose  Diarrhea  \\\n",
              "0                  0      1                 1           1         1   \n",
              "1                  0      1                 1           1         1   \n",
              "2                  0      1                 1           1         1   \n",
              "3                  0      1                 1           1         1   \n",
              "4                  0      1                 1           1         1   \n",
              "...              ...    ...               ...         ...       ...   \n",
              "316795             1      0                 0           0         0   \n",
              "316796             1      0                 0           0         0   \n",
              "316797             1      0                 0           0         0   \n",
              "316798             1      0                 0           0         0   \n",
              "316799             1      0                 0           0         0   \n",
              "\n",
              "        None_Experiencing  Age_0-9  Age_10-19  Age_20-24  Age_25-59  Age_60+  \\\n",
              "0                       0        1          0          0          0        0   \n",
              "1                       0        1          0          0          0        0   \n",
              "2                       0        1          0          0          0        0   \n",
              "3                       0        1          0          0          0        0   \n",
              "4                       0        1          0          0          0        0   \n",
              "...                   ...      ...        ...        ...        ...      ...   \n",
              "316795                  1        0          0          0          0        1   \n",
              "316796                  1        0          0          0          0        1   \n",
              "316797                  1        0          0          0          0        1   \n",
              "316798                  1        0          0          0          0        1   \n",
              "316799                  1        0          0          0          0        1   \n",
              "\n",
              "        Gender_Female  Gender_Male  Gender_Transgender  Contact_Dont-Know  \\\n",
              "0                   0            1                   0                  0   \n",
              "1                   0            1                   0                  0   \n",
              "2                   0            1                   0                  1   \n",
              "3                   0            1                   0                  0   \n",
              "4                   0            1                   0                  0   \n",
              "...               ...          ...                 ...                ...   \n",
              "316795              0            0                   1                  0   \n",
              "316796              0            0                   1                  1   \n",
              "316797              0            0                   1                  0   \n",
              "316798              0            0                   1                  0   \n",
              "316799              0            0                   1                  1   \n",
              "\n",
              "        Contact_No  Contact_Yes  Covid  Symptoms_Score  \n",
              "0                0            1      0               9  \n",
              "1                1            0      0               9  \n",
              "2                0            0      0               9  \n",
              "3                0            1      1               9  \n",
              "4                1            0      1               9  \n",
              "...            ...          ...    ...             ...  \n",
              "316795           1            0      3               0  \n",
              "316796           0            0      3               0  \n",
              "316797           0            1      2               0  \n",
              "316798           1            0      2               0  \n",
              "316799           0            0      2               0  \n",
              "\n",
              "[316800 rows x 24 columns]"
            ],
            "text/html": [
              "\n",
              "  <div id=\"df-c78e64c9-fcdc-486b-84f5-308823373a36\">\n",
              "    <div class=\"colab-df-container\">\n",
              "      <div>\n",
              "<style scoped>\n",
              "    .dataframe tbody tr th:only-of-type {\n",
              "        vertical-align: middle;\n",
              "    }\n",
              "\n",
              "    .dataframe tbody tr th {\n",
              "        vertical-align: top;\n",
              "    }\n",
              "\n",
              "    .dataframe thead th {\n",
              "        text-align: right;\n",
              "    }\n",
              "</style>\n",
              "<table border=\"1\" class=\"dataframe\">\n",
              "  <thead>\n",
              "    <tr style=\"text-align: right;\">\n",
              "      <th></th>\n",
              "      <th>Fever</th>\n",
              "      <th>Tiredness</th>\n",
              "      <th>Dry-Cough</th>\n",
              "      <th>Difficulty-in-Breathing</th>\n",
              "      <th>Sore-Throat</th>\n",
              "      <th>None_Sympton</th>\n",
              "      <th>Pains</th>\n",
              "      <th>Nasal-Congestion</th>\n",
              "      <th>Runny-Nose</th>\n",
              "      <th>Diarrhea</th>\n",
              "      <th>None_Experiencing</th>\n",
              "      <th>Age_0-9</th>\n",
              "      <th>Age_10-19</th>\n",
              "      <th>Age_20-24</th>\n",
              "      <th>Age_25-59</th>\n",
              "      <th>Age_60+</th>\n",
              "      <th>Gender_Female</th>\n",
              "      <th>Gender_Male</th>\n",
              "      <th>Gender_Transgender</th>\n",
              "      <th>Contact_Dont-Know</th>\n",
              "      <th>Contact_No</th>\n",
              "      <th>Contact_Yes</th>\n",
              "      <th>Covid</th>\n",
              "      <th>Symptoms_Score</th>\n",
              "    </tr>\n",
              "  </thead>\n",
              "  <tbody>\n",
              "    <tr>\n",
              "      <th>0</th>\n",
              "      <td>1</td>\n",
              "      <td>1</td>\n",
              "      <td>1</td>\n",
              "      <td>1</td>\n",
              "      <td>1</td>\n",
              "      <td>0</td>\n",
              "      <td>1</td>\n",
              "      <td>1</td>\n",
              "      <td>1</td>\n",
              "      <td>1</td>\n",
              "      <td>0</td>\n",
              "      <td>1</td>\n",
              "      <td>0</td>\n",
              "      <td>0</td>\n",
              "      <td>0</td>\n",
              "      <td>0</td>\n",
              "      <td>0</td>\n",
              "      <td>1</td>\n",
              "      <td>0</td>\n",
              "      <td>0</td>\n",
              "      <td>0</td>\n",
              "      <td>1</td>\n",
              "      <td>0</td>\n",
              "      <td>9</td>\n",
              "    </tr>\n",
              "    <tr>\n",
              "      <th>1</th>\n",
              "      <td>1</td>\n",
              "      <td>1</td>\n",
              "      <td>1</td>\n",
              "      <td>1</td>\n",
              "      <td>1</td>\n",
              "      <td>0</td>\n",
              "      <td>1</td>\n",
              "      <td>1</td>\n",
              "      <td>1</td>\n",
              "      <td>1</td>\n",
              "      <td>0</td>\n",
              "      <td>1</td>\n",
              "      <td>0</td>\n",
              "      <td>0</td>\n",
              "      <td>0</td>\n",
              "      <td>0</td>\n",
              "      <td>0</td>\n",
              "      <td>1</td>\n",
              "      <td>0</td>\n",
              "      <td>0</td>\n",
              "      <td>1</td>\n",
              "      <td>0</td>\n",
              "      <td>0</td>\n",
              "      <td>9</td>\n",
              "    </tr>\n",
              "    <tr>\n",
              "      <th>2</th>\n",
              "      <td>1</td>\n",
              "      <td>1</td>\n",
              "      <td>1</td>\n",
              "      <td>1</td>\n",
              "      <td>1</td>\n",
              "      <td>0</td>\n",
              "      <td>1</td>\n",
              "      <td>1</td>\n",
              "      <td>1</td>\n",
              "      <td>1</td>\n",
              "      <td>0</td>\n",
              "      <td>1</td>\n",
              "      <td>0</td>\n",
              "      <td>0</td>\n",
              "      <td>0</td>\n",
              "      <td>0</td>\n",
              "      <td>0</td>\n",
              "      <td>1</td>\n",
              "      <td>0</td>\n",
              "      <td>1</td>\n",
              "      <td>0</td>\n",
              "      <td>0</td>\n",
              "      <td>0</td>\n",
              "      <td>9</td>\n",
              "    </tr>\n",
              "    <tr>\n",
              "      <th>3</th>\n",
              "      <td>1</td>\n",
              "      <td>1</td>\n",
              "      <td>1</td>\n",
              "      <td>1</td>\n",
              "      <td>1</td>\n",
              "      <td>0</td>\n",
              "      <td>1</td>\n",
              "      <td>1</td>\n",
              "      <td>1</td>\n",
              "      <td>1</td>\n",
              "      <td>0</td>\n",
              "      <td>1</td>\n",
              "      <td>0</td>\n",
              "      <td>0</td>\n",
              "      <td>0</td>\n",
              "      <td>0</td>\n",
              "      <td>0</td>\n",
              "      <td>1</td>\n",
              "      <td>0</td>\n",
              "      <td>0</td>\n",
              "      <td>0</td>\n",
              "      <td>1</td>\n",
              "      <td>1</td>\n",
              "      <td>9</td>\n",
              "    </tr>\n",
              "    <tr>\n",
              "      <th>4</th>\n",
              "      <td>1</td>\n",
              "      <td>1</td>\n",
              "      <td>1</td>\n",
              "      <td>1</td>\n",
              "      <td>1</td>\n",
              "      <td>0</td>\n",
              "      <td>1</td>\n",
              "      <td>1</td>\n",
              "      <td>1</td>\n",
              "      <td>1</td>\n",
              "      <td>0</td>\n",
              "      <td>1</td>\n",
              "      <td>0</td>\n",
              "      <td>0</td>\n",
              "      <td>0</td>\n",
              "      <td>0</td>\n",
              "      <td>0</td>\n",
              "      <td>1</td>\n",
              "      <td>0</td>\n",
              "      <td>0</td>\n",
              "      <td>1</td>\n",
              "      <td>0</td>\n",
              "      <td>1</td>\n",
              "      <td>9</td>\n",
              "    </tr>\n",
              "    <tr>\n",
              "      <th>...</th>\n",
              "      <td>...</td>\n",
              "      <td>...</td>\n",
              "      <td>...</td>\n",
              "      <td>...</td>\n",
              "      <td>...</td>\n",
              "      <td>...</td>\n",
              "      <td>...</td>\n",
              "      <td>...</td>\n",
              "      <td>...</td>\n",
              "      <td>...</td>\n",
              "      <td>...</td>\n",
              "      <td>...</td>\n",
              "      <td>...</td>\n",
              "      <td>...</td>\n",
              "      <td>...</td>\n",
              "      <td>...</td>\n",
              "      <td>...</td>\n",
              "      <td>...</td>\n",
              "      <td>...</td>\n",
              "      <td>...</td>\n",
              "      <td>...</td>\n",
              "      <td>...</td>\n",
              "      <td>...</td>\n",
              "      <td>...</td>\n",
              "    </tr>\n",
              "    <tr>\n",
              "      <th>316795</th>\n",
              "      <td>0</td>\n",
              "      <td>0</td>\n",
              "      <td>0</td>\n",
              "      <td>0</td>\n",
              "      <td>0</td>\n",
              "      <td>1</td>\n",
              "      <td>0</td>\n",
              "      <td>0</td>\n",
              "      <td>0</td>\n",
              "      <td>0</td>\n",
              "      <td>1</td>\n",
              "      <td>0</td>\n",
              "      <td>0</td>\n",
              "      <td>0</td>\n",
              "      <td>0</td>\n",
              "      <td>1</td>\n",
              "      <td>0</td>\n",
              "      <td>0</td>\n",
              "      <td>1</td>\n",
              "      <td>0</td>\n",
              "      <td>1</td>\n",
              "      <td>0</td>\n",
              "      <td>3</td>\n",
              "      <td>0</td>\n",
              "    </tr>\n",
              "    <tr>\n",
              "      <th>316796</th>\n",
              "      <td>0</td>\n",
              "      <td>0</td>\n",
              "      <td>0</td>\n",
              "      <td>0</td>\n",
              "      <td>0</td>\n",
              "      <td>1</td>\n",
              "      <td>0</td>\n",
              "      <td>0</td>\n",
              "      <td>0</td>\n",
              "      <td>0</td>\n",
              "      <td>1</td>\n",
              "      <td>0</td>\n",
              "      <td>0</td>\n",
              "      <td>0</td>\n",
              "      <td>0</td>\n",
              "      <td>1</td>\n",
              "      <td>0</td>\n",
              "      <td>0</td>\n",
              "      <td>1</td>\n",
              "      <td>1</td>\n",
              "      <td>0</td>\n",
              "      <td>0</td>\n",
              "      <td>3</td>\n",
              "      <td>0</td>\n",
              "    </tr>\n",
              "    <tr>\n",
              "      <th>316797</th>\n",
              "      <td>0</td>\n",
              "      <td>0</td>\n",
              "      <td>0</td>\n",
              "      <td>0</td>\n",
              "      <td>0</td>\n",
              "      <td>1</td>\n",
              "      <td>0</td>\n",
              "      <td>0</td>\n",
              "      <td>0</td>\n",
              "      <td>0</td>\n",
              "      <td>1</td>\n",
              "      <td>0</td>\n",
              "      <td>0</td>\n",
              "      <td>0</td>\n",
              "      <td>0</td>\n",
              "      <td>1</td>\n",
              "      <td>0</td>\n",
              "      <td>0</td>\n",
              "      <td>1</td>\n",
              "      <td>0</td>\n",
              "      <td>0</td>\n",
              "      <td>1</td>\n",
              "      <td>2</td>\n",
              "      <td>0</td>\n",
              "    </tr>\n",
              "    <tr>\n",
              "      <th>316798</th>\n",
              "      <td>0</td>\n",
              "      <td>0</td>\n",
              "      <td>0</td>\n",
              "      <td>0</td>\n",
              "      <td>0</td>\n",
              "      <td>1</td>\n",
              "      <td>0</td>\n",
              "      <td>0</td>\n",
              "      <td>0</td>\n",
              "      <td>0</td>\n",
              "      <td>1</td>\n",
              "      <td>0</td>\n",
              "      <td>0</td>\n",
              "      <td>0</td>\n",
              "      <td>0</td>\n",
              "      <td>1</td>\n",
              "      <td>0</td>\n",
              "      <td>0</td>\n",
              "      <td>1</td>\n",
              "      <td>0</td>\n",
              "      <td>1</td>\n",
              "      <td>0</td>\n",
              "      <td>2</td>\n",
              "      <td>0</td>\n",
              "    </tr>\n",
              "    <tr>\n",
              "      <th>316799</th>\n",
              "      <td>0</td>\n",
              "      <td>0</td>\n",
              "      <td>0</td>\n",
              "      <td>0</td>\n",
              "      <td>0</td>\n",
              "      <td>1</td>\n",
              "      <td>0</td>\n",
              "      <td>0</td>\n",
              "      <td>0</td>\n",
              "      <td>0</td>\n",
              "      <td>1</td>\n",
              "      <td>0</td>\n",
              "      <td>0</td>\n",
              "      <td>0</td>\n",
              "      <td>0</td>\n",
              "      <td>1</td>\n",
              "      <td>0</td>\n",
              "      <td>0</td>\n",
              "      <td>1</td>\n",
              "      <td>1</td>\n",
              "      <td>0</td>\n",
              "      <td>0</td>\n",
              "      <td>2</td>\n",
              "      <td>0</td>\n",
              "    </tr>\n",
              "  </tbody>\n",
              "</table>\n",
              "<p>316800 rows × 24 columns</p>\n",
              "</div>\n",
              "      <button class=\"colab-df-convert\" onclick=\"convertToInteractive('df-c78e64c9-fcdc-486b-84f5-308823373a36')\"\n",
              "              title=\"Convert this dataframe to an interactive table.\"\n",
              "              style=\"display:none;\">\n",
              "        \n",
              "  <svg xmlns=\"http://www.w3.org/2000/svg\" height=\"24px\"viewBox=\"0 0 24 24\"\n",
              "       width=\"24px\">\n",
              "    <path d=\"M0 0h24v24H0V0z\" fill=\"none\"/>\n",
              "    <path d=\"M18.56 5.44l.94 2.06.94-2.06 2.06-.94-2.06-.94-.94-2.06-.94 2.06-2.06.94zm-11 1L8.5 8.5l.94-2.06 2.06-.94-2.06-.94L8.5 2.5l-.94 2.06-2.06.94zm10 10l.94 2.06.94-2.06 2.06-.94-2.06-.94-.94-2.06-.94 2.06-2.06.94z\"/><path d=\"M17.41 7.96l-1.37-1.37c-.4-.4-.92-.59-1.43-.59-.52 0-1.04.2-1.43.59L10.3 9.45l-7.72 7.72c-.78.78-.78 2.05 0 2.83L4 21.41c.39.39.9.59 1.41.59.51 0 1.02-.2 1.41-.59l7.78-7.78 2.81-2.81c.8-.78.8-2.07 0-2.86zM5.41 20L4 18.59l7.72-7.72 1.47 1.35L5.41 20z\"/>\n",
              "  </svg>\n",
              "      </button>\n",
              "      \n",
              "  <style>\n",
              "    .colab-df-container {\n",
              "      display:flex;\n",
              "      flex-wrap:wrap;\n",
              "      gap: 12px;\n",
              "    }\n",
              "\n",
              "    .colab-df-convert {\n",
              "      background-color: #E8F0FE;\n",
              "      border: none;\n",
              "      border-radius: 50%;\n",
              "      cursor: pointer;\n",
              "      display: none;\n",
              "      fill: #1967D2;\n",
              "      height: 32px;\n",
              "      padding: 0 0 0 0;\n",
              "      width: 32px;\n",
              "    }\n",
              "\n",
              "    .colab-df-convert:hover {\n",
              "      background-color: #E2EBFA;\n",
              "      box-shadow: 0px 1px 2px rgba(60, 64, 67, 0.3), 0px 1px 3px 1px rgba(60, 64, 67, 0.15);\n",
              "      fill: #174EA6;\n",
              "    }\n",
              "\n",
              "    [theme=dark] .colab-df-convert {\n",
              "      background-color: #3B4455;\n",
              "      fill: #D2E3FC;\n",
              "    }\n",
              "\n",
              "    [theme=dark] .colab-df-convert:hover {\n",
              "      background-color: #434B5C;\n",
              "      box-shadow: 0px 1px 3px 1px rgba(0, 0, 0, 0.15);\n",
              "      filter: drop-shadow(0px 1px 2px rgba(0, 0, 0, 0.3));\n",
              "      fill: #FFFFFF;\n",
              "    }\n",
              "  </style>\n",
              "\n",
              "      <script>\n",
              "        const buttonEl =\n",
              "          document.querySelector('#df-c78e64c9-fcdc-486b-84f5-308823373a36 button.colab-df-convert');\n",
              "        buttonEl.style.display =\n",
              "          google.colab.kernel.accessAllowed ? 'block' : 'none';\n",
              "\n",
              "        async function convertToInteractive(key) {\n",
              "          const element = document.querySelector('#df-c78e64c9-fcdc-486b-84f5-308823373a36');\n",
              "          const dataTable =\n",
              "            await google.colab.kernel.invokeFunction('convertToInteractive',\n",
              "                                                     [key], {});\n",
              "          if (!dataTable) return;\n",
              "\n",
              "          const docLinkHtml = 'Like what you see? Visit the ' +\n",
              "            '<a target=\"_blank\" href=https://colab.research.google.com/notebooks/data_table.ipynb>data table notebook</a>'\n",
              "            + ' to learn more about interactive tables.';\n",
              "          element.innerHTML = '';\n",
              "          dataTable['output_type'] = 'display_data';\n",
              "          await google.colab.output.renderOutput(dataTable, element);\n",
              "          const docLink = document.createElement('div');\n",
              "          docLink.innerHTML = docLinkHtml;\n",
              "          element.appendChild(docLink);\n",
              "        }\n",
              "      </script>\n",
              "    </div>\n",
              "  </div>\n",
              "  "
            ]
          },
          "metadata": {},
          "execution_count": 48
        }
      ],
      "source": [
        "covid_data_1"
      ]
    },
    {
      "cell_type": "markdown",
      "metadata": {
        "id": "fSLLqEGXXYPO"
      },
      "source": [
        "# Feature Selection"
      ]
    },
    {
      "cell_type": "code",
      "execution_count": 49,
      "metadata": {
        "trusted": true,
        "colab": {
          "base_uri": "https://localhost:8080/",
          "height": 0
        },
        "id": "m6VfeuT7XYPP",
        "outputId": "658eb466-30a1-4e65-b364-414d4ba8d78d"
      },
      "outputs": [
        {
          "output_type": "display_data",
          "data": {
            "text/plain": [
              "<Figure size 936x1296 with 2 Axes>"
            ],
            "image/png": "[encoded data removed]"
          },
          "metadata": {}
        }
      ],
      "source": [
        "from pylab import rcParams\n",
        "rcParams['figure.figsize'] = 13, 18\n",
        "corrmat = covid_data_1.corr()\n",
        "k = 22\n",
        "cols = corrmat.nlargest(k, 'Covid')['Covid'].index\n",
        "cm = np.corrcoef(covid_data_1[cols].values.T)\n",
        "sns.set(font_scale=1.25)\n",
        "hm = sns.heatmap(cm, cbar=True, annot=True, square=True, fmt='.2f', annot_kws={'size': 10}, yticklabels=cols.values, xticklabels=cols.values)\n",
        "plt.show()"
      ]
    },
    {
      "cell_type": "markdown",
      "metadata": {
        "id": "eNzHz0fbXYPP"
      },
      "source": [
        "# Model"
      ]
    },
    {
      "cell_type": "code",
      "execution_count": 50,
      "metadata": {
        "trusted": true,
        "id": "lzKbyCzSXYPP"
      },
      "outputs": [],
      "source": [
        "X= covid_data_1.drop(['Covid'],axis=1)\n",
        "y= covid_data_1['Covid']"
      ]
    },
    {
      "cell_type": "code",
      "execution_count": 51,
      "metadata": {
        "trusted": true,
        "id": "YQ8msiEJXYPP"
      },
      "outputs": [],
      "source": [
        "from sklearn.model_selection import train_test_split\n",
        "X_train, X_test, y_train, y_test = train_test_split(X, y, test_size=0.20, random_state=42)"
      ]
    },
    {
      "cell_type": "markdown",
      "metadata": {
        "id": "2x49xcFtXYPP"
      },
      "source": [
        "- Random Forest"
      ]
    },
    {
      "cell_type": "code",
      "execution_count": null,
      "metadata": {
        "trusted": true,
        "id": "9JglkE5_XYPQ"
      },
      "outputs": [],
      "source": [
        "'''from sklearn.ensemble import RandomForestClassifier\n",
        "from sklearn.model_selection import GridSearchCV\n",
        "# Create the parameter grid based on the results of random search \n",
        "param_grid = {\n",
        "    'n_estimators': [100, 200, 300, 500],\n",
        "    'max_features': ['auto', 'sqrt', 'log2'],\n",
        "    'max_depth' : [4,5,6,7,8],\n",
        "    'criterion' :['gini', 'entropy']\n",
        "}\n",
        "# Create a based model\n",
        "rf = RandomForestClassifier()\n",
        "# Instantiate the grid search model\n",
        "grid_search = GridSearchCV(estimator = rf, param_grid = param_grid, \n",
        "                          cv = 3, n_jobs = -1, verbose = 2)'''"
      ]
    },
    {
      "cell_type": "code",
      "execution_count": null,
      "metadata": {
        "trusted": true,
        "id": "WVkW18ViXYPQ"
      },
      "outputs": [],
      "source": [
        "'''# Fit the grid search to the data\n",
        "grid_search.fit(X_train, y_train)'''"
      ]
    },
    {
      "cell_type": "code",
      "execution_count": null,
      "metadata": {
        "trusted": true,
        "id": "wkSD47OhXYPQ"
      },
      "outputs": [],
      "source": [
        "'''print('Best Parameters',grid_search.best_params_)\n",
        "best_grid = grid_search.best_estimator_\n",
        "print('\\n Best Estimator',best_grid)'''"
      ]
    },
    {
      "cell_type": "code",
      "execution_count": null,
      "metadata": {
        "trusted": true,
        "id": "_tRxi2HzXYPQ"
      },
      "outputs": [],
      "source": [
        "\"\"\"Best Parameters {'criterion': 'gini', 'max_depth': 4, 'max_features': 'sqrt', 'n_estimators': 100}\n",
        "Best Estimator RandomForestClassifier(max_depth=4, max_features='sqrt')\"\"\""
      ]
    },
    {
      "cell_type": "code",
      "execution_count": 52,
      "metadata": {
        "trusted": true,
        "id": "b9neZZiSXYPQ"
      },
      "outputs": [],
      "source": [
        "from sklearn.ensemble import RandomForestClassifier\n",
        "rfc1=RandomForestClassifier(criterion= 'gini', max_depth= 4, max_features= 'sqrt', n_estimators= 100)"
      ]
    },
    {
      "cell_type": "code",
      "execution_count": 53,
      "metadata": {
        "trusted": true,
        "colab": {
          "base_uri": "https://localhost:8080/"
        },
        "id": "N9rN4yKJXYPQ",
        "outputId": "015df286-4a83-4521-f908-bc6f8de784d2"
      },
      "outputs": [
        {
          "output_type": "execute_result",
          "data": {
            "text/plain": [
              "RandomForestClassifier(max_depth=4, max_features='sqrt')"
            ]
          },
          "metadata": {},
          "execution_count": 53
        }
      ],
      "source": [
        "rfc1.fit(X_train, y_train)"
      ]
    },
    {
      "cell_type": "code",
      "execution_count": 54,
      "metadata": {
        "trusted": true,
        "id": "aNVwZ3oVXYPQ"
      },
      "outputs": [],
      "source": [
        "pred=rfc1.predict(X_test)"
      ]
    },
    {
      "cell_type": "code",
      "execution_count": 55,
      "metadata": {
        "trusted": true,
        "colab": {
          "base_uri": "https://localhost:8080/"
        },
        "id": "Qy4mIIxjXYPR",
        "outputId": "a1195676-8286-42c3-981c-d4b760b29fb7"
      },
      "outputs": [
        {
          "output_type": "execute_result",
          "data": {
            "text/plain": [
              "array([3, 3, 2, ..., 3, 3, 1])"
            ]
          },
          "metadata": {},
          "execution_count": 55
        }
      ],
      "source": [
        "pred"
      ]
    },
    {
      "cell_type": "code",
      "execution_count": 56,
      "metadata": {
        "trusted": true,
        "colab": {
          "base_uri": "https://localhost:8080/"
        },
        "id": "McekavqqXYPR",
        "outputId": "c98f7ed4-d082-404b-befc-6b4ccd8dd3f6"
      },
      "outputs": [
        {
          "output_type": "stream",
          "name": "stdout",
          "text": [
            "Accuracy for Random Forest on CV data:  0.23028724747474746\n"
          ]
        }
      ],
      "source": [
        "from sklearn.metrics import accuracy_score\n",
        "print(\"Accuracy for Random Forest on CV data: \",accuracy_score(y_test,pred))"
      ]
    },
    {
      "cell_type": "code",
      "execution_count": 57,
      "metadata": {
        "trusted": true,
        "colab": {
          "base_uri": "https://localhost:8080/"
        },
        "id": "IqbK9V-vXYPR",
        "outputId": "4a78810e-b3b3-484d-d387-ce88c38e6ae1"
      },
      "outputs": [
        {
          "output_type": "execute_result",
          "data": {
            "text/plain": [
              "array([[1705, 1662, 5929, 6679],\n",
              "       [1945, 1458, 5984, 6522],\n",
              "       [1937, 1715, 5454, 6651],\n",
              "       [1972, 1697, 6076, 5974]])"
            ]
          },
          "metadata": {},
          "execution_count": 57
        }
      ],
      "source": [
        "from sklearn.metrics import confusion_matrix\n",
        "confusion_matrix(y_test,pred)"
      ]
    },
    {
      "cell_type": "markdown",
      "metadata": {
        "id": "K3TboYThXYPR"
      },
      "source": [
        "- Gradient Boosting  on Decision trees\n"
      ]
    },
    {
      "cell_type": "code",
      "execution_count": 58,
      "metadata": {
        "trusted": true,
        "colab": {
          "base_uri": "https://localhost:8080/"
        },
        "id": "bIp_cVxFXYPR",
        "outputId": "b53a913f-6224-4eb5-ef8b-b49789dd8842"
      },
      "outputs": [
        {
          "output_type": "stream",
          "name": "stdout",
          "text": [
            "Looking in indexes: https://pypi.org/simple, https://us-python.pkg.dev/colab-wheels/public/simple/\n",
            "Collecting catboost\n",
            "  Downloading catboost-1.1.1-cp37-none-manylinux1_x86_64.whl (76.6 MB)\n",
            "\u001b[K     |████████████████████████████████| 76.6 MB 95 kB/s \n",
            "\u001b[?25hRequirement already satisfied: graphviz in /usr/local/lib/python3.7/dist-packages (from catboost) (0.10.1)\n",
            "Requirement already satisfied: numpy>=1.16.0 in /usr/local/lib/python3.7/dist-packages (from catboost) (1.21.6)\n",
            "Requirement already satisfied: matplotlib in /usr/local/lib/python3.7/dist-packages (from catboost) (3.2.2)\n",
            "Requirement already satisfied: pandas>=0.24.0 in /usr/local/lib/python3.7/dist-packages (from catboost) (1.3.5)\n",
            "Requirement already satisfied: plotly in /usr/local/lib/python3.7/dist-packages (from catboost) (5.5.0)\n",
            "Requirement already satisfied: scipy in /usr/local/lib/python3.7/dist-packages (from catboost) (1.7.3)\n",
            "Requirement already satisfied: six in /usr/local/lib/python3.7/dist-packages (from catboost) (1.15.0)\n",
            "Requirement already satisfied: pytz>=2017.3 in /usr/local/lib/python3.7/dist-packages (from pandas>=0.24.0->catboost) (2022.6)\n",
            "Requirement already satisfied: python-dateutil>=2.7.3 in /usr/local/lib/python3.7/dist-packages (from pandas>=0.24.0->catboost) (2.8.2)\n",
            "Requirement already satisfied: pyparsing!=2.0.4,!=2.1.2,!=2.1.6,>=2.0.1 in /usr/local/lib/python3.7/dist-packages (from matplotlib->catboost) (3.0.9)\n",
            "Requirement already satisfied: cycler>=0.10 in /usr/local/lib/python3.7/dist-packages (from matplotlib->catboost) (0.11.0)\n",
            "Requirement already satisfied: kiwisolver>=1.0.1 in /usr/local/lib/python3.7/dist-packages (from matplotlib->catboost) (1.4.4)\n",
            "Requirement already satisfied: typing-extensions in /usr/local/lib/python3.7/dist-packages (from kiwisolver>=1.0.1->matplotlib->catboost) (4.1.1)\n",
            "Requirement already satisfied: tenacity>=6.2.0 in /usr/local/lib/python3.7/dist-packages (from plotly->catboost) (8.1.0)\n",
            "Installing collected packages: catboost\n",
            "Successfully installed catboost-1.1.1\n"
          ]
        }
      ],
      "source": [
        "!pip install catboost"
      ]
    },
    {
      "cell_type": "code",
      "execution_count": 59,
      "metadata": {
        "trusted": true,
        "id": "V836AOUYXYPR"
      },
      "outputs": [],
      "source": [
        "from catboost import CatBoostClassifier"
      ]
    },
    {
      "cell_type": "code",
      "execution_count": 60,
      "metadata": {
        "trusted": true,
        "id": "i7b4WevFXYPR"
      },
      "outputs": [],
      "source": [
        "model = CatBoostClassifier(iterations=200)"
      ]
    },
    {
      "cell_type": "code",
      "execution_count": 61,
      "metadata": {
        "trusted": true,
        "colab": {
          "base_uri": "https://localhost:8080/"
        },
        "id": "C4m0hdQLXYPS",
        "outputId": "d8fe3fae-d5dd-45ad-80d6-22fd0af45b95"
      },
      "outputs": [
        {
          "output_type": "stream",
          "name": "stdout",
          "text": [
            "\n",
            "Categorical Variables indices :  [ 0  1  2  3  4  5  6  7  8  9 10 11 12 13 14 15 16 17 18 19 20 21 22]\n"
          ]
        }
      ],
      "source": [
        "categorical_var = np.where(X_train.dtypes != np.float)[0]\n",
        "print('\\nCategorical Variables indices : ',categorical_var)"
      ]
    },
    {
      "cell_type": "code",
      "execution_count": 62,
      "metadata": {
        "trusted": true,
        "colab": {
          "base_uri": "https://localhost:8080/"
        },
        "id": "EwyG-BP2XYPS",
        "outputId": "fb5c3e09-fc92-4753-f5c5-149a5acc76dc"
      },
      "outputs": [
        {
          "output_type": "stream",
          "name": "stdout",
          "text": [
            "Learning rate set to 0.408837\n",
            "0:\tlearn: 1.3862142\ttotal: 633ms\tremaining: 2m 5s\n",
            "1:\tlearn: 1.3861638\ttotal: 1s\tremaining: 1m 39s\n",
            "2:\tlearn: 1.3861440\ttotal: 1.41s\tremaining: 1m 32s\n",
            "3:\tlearn: 1.3861000\ttotal: 1.83s\tremaining: 1m 29s\n",
            "4:\tlearn: 1.3860046\ttotal: 2.23s\tremaining: 1m 27s\n",
            "5:\tlearn: 1.3859796\ttotal: 2.61s\tremaining: 1m 24s\n",
            "6:\tlearn: 1.3859552\ttotal: 2.97s\tremaining: 1m 22s\n",
            "7:\tlearn: 1.3859276\ttotal: 3.37s\tremaining: 1m 20s\n",
            "8:\tlearn: 1.3858819\ttotal: 3.8s\tremaining: 1m 20s\n",
            "9:\tlearn: 1.3858448\ttotal: 4.28s\tremaining: 1m 21s\n",
            "10:\tlearn: 1.3857902\ttotal: 4.7s\tremaining: 1m 20s\n",
            "11:\tlearn: 1.3857512\ttotal: 5.09s\tremaining: 1m 19s\n",
            "12:\tlearn: 1.3857010\ttotal: 5.49s\tremaining: 1m 18s\n",
            "13:\tlearn: 1.3856820\ttotal: 5.88s\tremaining: 1m 18s\n",
            "14:\tlearn: 1.3856065\ttotal: 6.36s\tremaining: 1m 18s\n",
            "15:\tlearn: 1.3855559\ttotal: 6.83s\tremaining: 1m 18s\n",
            "16:\tlearn: 1.3855393\ttotal: 7.24s\tremaining: 1m 17s\n",
            "17:\tlearn: 1.3855137\ttotal: 7.66s\tremaining: 1m 17s\n",
            "18:\tlearn: 1.3855013\ttotal: 8.02s\tremaining: 1m 16s\n",
            "19:\tlearn: 1.3854837\ttotal: 8.43s\tremaining: 1m 15s\n",
            "20:\tlearn: 1.3854500\ttotal: 8.82s\tremaining: 1m 15s\n",
            "21:\tlearn: 1.3854194\ttotal: 9.24s\tremaining: 1m 14s\n",
            "22:\tlearn: 1.3854127\ttotal: 9.64s\tremaining: 1m 14s\n",
            "23:\tlearn: 1.3853737\ttotal: 9.99s\tremaining: 1m 13s\n",
            "24:\tlearn: 1.3853501\ttotal: 10.4s\tremaining: 1m 12s\n",
            "25:\tlearn: 1.3852763\ttotal: 10.8s\tremaining: 1m 12s\n",
            "26:\tlearn: 1.3852463\ttotal: 11.2s\tremaining: 1m 11s\n",
            "27:\tlearn: 1.3852246\ttotal: 11.6s\tremaining: 1m 11s\n",
            "28:\tlearn: 1.3851979\ttotal: 11.9s\tremaining: 1m 10s\n",
            "29:\tlearn: 1.3851420\ttotal: 12.4s\tremaining: 1m 10s\n",
            "30:\tlearn: 1.3851252\ttotal: 12.8s\tremaining: 1m 9s\n",
            "31:\tlearn: 1.3850698\ttotal: 13.2s\tremaining: 1m 9s\n",
            "32:\tlearn: 1.3850218\ttotal: 13.6s\tremaining: 1m 8s\n",
            "33:\tlearn: 1.3849241\ttotal: 14s\tremaining: 1m 8s\n",
            "34:\tlearn: 1.3848327\ttotal: 14.4s\tremaining: 1m 7s\n",
            "35:\tlearn: 1.3848014\ttotal: 14.8s\tremaining: 1m 7s\n",
            "36:\tlearn: 1.3847677\ttotal: 15.2s\tremaining: 1m 7s\n",
            "37:\tlearn: 1.3846712\ttotal: 15.7s\tremaining: 1m 7s\n",
            "38:\tlearn: 1.3846416\ttotal: 16.2s\tremaining: 1m 6s\n",
            "39:\tlearn: 1.3845508\ttotal: 16.6s\tremaining: 1m 6s\n",
            "40:\tlearn: 1.3844782\ttotal: 17s\tremaining: 1m 5s\n",
            "41:\tlearn: 1.3844256\ttotal: 17.4s\tremaining: 1m 5s\n",
            "42:\tlearn: 1.3844005\ttotal: 17.9s\tremaining: 1m 5s\n",
            "43:\tlearn: 1.3843183\ttotal: 18.3s\tremaining: 1m 4s\n",
            "44:\tlearn: 1.3842784\ttotal: 18.7s\tremaining: 1m 4s\n",
            "45:\tlearn: 1.3842319\ttotal: 19.2s\tremaining: 1m 4s\n",
            "46:\tlearn: 1.3842077\ttotal: 19.6s\tremaining: 1m 3s\n",
            "47:\tlearn: 1.3841227\ttotal: 20.1s\tremaining: 1m 3s\n",
            "48:\tlearn: 1.3840686\ttotal: 20.6s\tremaining: 1m 3s\n",
            "49:\tlearn: 1.3840071\ttotal: 21s\tremaining: 1m 3s\n",
            "50:\tlearn: 1.3839612\ttotal: 21.5s\tremaining: 1m 2s\n",
            "51:\tlearn: 1.3839336\ttotal: 21.9s\tremaining: 1m 2s\n",
            "52:\tlearn: 1.3838336\ttotal: 22.4s\tremaining: 1m 2s\n",
            "53:\tlearn: 1.3837495\ttotal: 22.9s\tremaining: 1m 2s\n",
            "54:\tlearn: 1.3837115\ttotal: 23.4s\tremaining: 1m 1s\n",
            "55:\tlearn: 1.3836611\ttotal: 23.9s\tremaining: 1m 1s\n",
            "56:\tlearn: 1.3835917\ttotal: 24.3s\tremaining: 1m 1s\n",
            "57:\tlearn: 1.3835187\ttotal: 24.7s\tremaining: 1m\n",
            "58:\tlearn: 1.3834612\ttotal: 25.2s\tremaining: 1m\n",
            "59:\tlearn: 1.3834275\ttotal: 25.6s\tremaining: 59.8s\n",
            "60:\tlearn: 1.3834115\ttotal: 26.1s\tremaining: 59.4s\n",
            "61:\tlearn: 1.3833405\ttotal: 26.6s\tremaining: 59.1s\n",
            "62:\tlearn: 1.3832529\ttotal: 27.1s\tremaining: 58.8s\n",
            "63:\tlearn: 1.3831888\ttotal: 27.6s\tremaining: 58.6s\n",
            "64:\tlearn: 1.3831065\ttotal: 28s\tremaining: 58.2s\n",
            "65:\tlearn: 1.3830408\ttotal: 28.5s\tremaining: 57.8s\n",
            "66:\tlearn: 1.3830047\ttotal: 28.9s\tremaining: 57.4s\n",
            "67:\tlearn: 1.3829386\ttotal: 29.4s\tremaining: 57.1s\n",
            "68:\tlearn: 1.3828653\ttotal: 29.9s\tremaining: 56.7s\n",
            "69:\tlearn: 1.3828070\ttotal: 30.4s\tremaining: 56.4s\n",
            "70:\tlearn: 1.3827855\ttotal: 30.8s\tremaining: 56s\n",
            "71:\tlearn: 1.3827472\ttotal: 31.3s\tremaining: 55.6s\n",
            "72:\tlearn: 1.3826761\ttotal: 31.7s\tremaining: 55.2s\n",
            "73:\tlearn: 1.3826318\ttotal: 32.1s\tremaining: 54.7s\n",
            "74:\tlearn: 1.3825640\ttotal: 32.6s\tremaining: 54.3s\n",
            "75:\tlearn: 1.3825366\ttotal: 33s\tremaining: 53.8s\n",
            "76:\tlearn: 1.3824683\ttotal: 33.5s\tremaining: 53.5s\n",
            "77:\tlearn: 1.3824002\ttotal: 33.9s\tremaining: 53.1s\n",
            "78:\tlearn: 1.3823203\ttotal: 34.4s\tremaining: 52.8s\n",
            "79:\tlearn: 1.3822499\ttotal: 34.9s\tremaining: 52.3s\n",
            "80:\tlearn: 1.3822135\ttotal: 35.4s\tremaining: 52s\n",
            "81:\tlearn: 1.3821888\ttotal: 35.8s\tremaining: 51.6s\n",
            "82:\tlearn: 1.3821276\ttotal: 36.2s\tremaining: 51.1s\n",
            "83:\tlearn: 1.3821102\ttotal: 36.6s\tremaining: 50.6s\n",
            "84:\tlearn: 1.3820515\ttotal: 37.2s\tremaining: 50.3s\n",
            "85:\tlearn: 1.3819947\ttotal: 37.7s\tremaining: 49.9s\n",
            "86:\tlearn: 1.3819520\ttotal: 38.1s\tremaining: 49.5s\n",
            "87:\tlearn: 1.3819163\ttotal: 38.6s\tremaining: 49.1s\n",
            "88:\tlearn: 1.3818637\ttotal: 39.1s\tremaining: 48.8s\n",
            "89:\tlearn: 1.3818015\ttotal: 39.6s\tremaining: 48.4s\n",
            "90:\tlearn: 1.3817593\ttotal: 40s\tremaining: 48s\n",
            "91:\tlearn: 1.3817064\ttotal: 40.6s\tremaining: 47.6s\n",
            "92:\tlearn: 1.3816565\ttotal: 41s\tremaining: 47.2s\n",
            "93:\tlearn: 1.3816232\ttotal: 41.4s\tremaining: 46.7s\n",
            "94:\tlearn: 1.3815919\ttotal: 41.9s\tremaining: 46.4s\n",
            "95:\tlearn: 1.3815339\ttotal: 42.4s\tremaining: 46s\n",
            "96:\tlearn: 1.3814784\ttotal: 42.9s\tremaining: 45.5s\n",
            "97:\tlearn: 1.3814468\ttotal: 43.3s\tremaining: 45.1s\n",
            "98:\tlearn: 1.3813738\ttotal: 43.7s\tremaining: 44.6s\n",
            "99:\tlearn: 1.3813544\ttotal: 44.2s\tremaining: 44.2s\n",
            "100:\tlearn: 1.3812883\ttotal: 44.6s\tremaining: 43.8s\n",
            "101:\tlearn: 1.3812524\ttotal: 45.1s\tremaining: 43.3s\n",
            "102:\tlearn: 1.3812147\ttotal: 45.6s\tremaining: 43s\n",
            "103:\tlearn: 1.3811928\ttotal: 46.1s\tremaining: 42.5s\n",
            "104:\tlearn: 1.3811372\ttotal: 46.5s\tremaining: 42.1s\n",
            "105:\tlearn: 1.3811132\ttotal: 47s\tremaining: 41.7s\n",
            "106:\tlearn: 1.3810709\ttotal: 47.5s\tremaining: 41.3s\n",
            "107:\tlearn: 1.3810303\ttotal: 47.9s\tremaining: 40.8s\n",
            "108:\tlearn: 1.3809838\ttotal: 48.4s\tremaining: 40.4s\n",
            "109:\tlearn: 1.3809321\ttotal: 48.9s\tremaining: 40s\n",
            "110:\tlearn: 1.3808961\ttotal: 49.3s\tremaining: 39.5s\n",
            "111:\tlearn: 1.3808493\ttotal: 49.8s\tremaining: 39.1s\n",
            "112:\tlearn: 1.3808141\ttotal: 50.2s\tremaining: 38.7s\n",
            "113:\tlearn: 1.3807856\ttotal: 50.6s\tremaining: 38.2s\n",
            "114:\tlearn: 1.3807372\ttotal: 51s\tremaining: 37.7s\n",
            "115:\tlearn: 1.3806838\ttotal: 51.5s\tremaining: 37.3s\n",
            "116:\tlearn: 1.3806203\ttotal: 51.9s\tremaining: 36.8s\n",
            "117:\tlearn: 1.3805920\ttotal: 52.4s\tremaining: 36.4s\n",
            "118:\tlearn: 1.3805632\ttotal: 52.8s\tremaining: 36s\n",
            "119:\tlearn: 1.3805251\ttotal: 53.3s\tremaining: 35.5s\n",
            "120:\tlearn: 1.3804797\ttotal: 53.8s\tremaining: 35.1s\n",
            "121:\tlearn: 1.3804419\ttotal: 54.8s\tremaining: 35s\n",
            "122:\tlearn: 1.3803798\ttotal: 55.6s\tremaining: 34.8s\n",
            "123:\tlearn: 1.3803569\ttotal: 56s\tremaining: 34.3s\n",
            "124:\tlearn: 1.3803209\ttotal: 56.5s\tremaining: 33.9s\n",
            "125:\tlearn: 1.3802765\ttotal: 57s\tremaining: 33.5s\n",
            "126:\tlearn: 1.3802536\ttotal: 57.5s\tremaining: 33s\n",
            "127:\tlearn: 1.3801954\ttotal: 58s\tremaining: 32.6s\n",
            "128:\tlearn: 1.3801482\ttotal: 58.4s\tremaining: 32.1s\n",
            "129:\tlearn: 1.3801098\ttotal: 58.9s\tremaining: 31.7s\n",
            "130:\tlearn: 1.3800842\ttotal: 59.4s\tremaining: 31.3s\n",
            "131:\tlearn: 1.3800316\ttotal: 59.8s\tremaining: 30.8s\n",
            "132:\tlearn: 1.3800216\ttotal: 1m\tremaining: 30.4s\n",
            "133:\tlearn: 1.3799967\ttotal: 1m\tremaining: 29.9s\n",
            "134:\tlearn: 1.3799897\ttotal: 1m 1s\tremaining: 29.5s\n",
            "135:\tlearn: 1.3799330\ttotal: 1m 1s\tremaining: 29s\n",
            "136:\tlearn: 1.3799123\ttotal: 1m 2s\tremaining: 28.6s\n",
            "137:\tlearn: 1.3798962\ttotal: 1m 2s\tremaining: 28.2s\n",
            "138:\tlearn: 1.3798473\ttotal: 1m 3s\tremaining: 27.7s\n",
            "139:\tlearn: 1.3798241\ttotal: 1m 3s\tremaining: 27.3s\n",
            "140:\tlearn: 1.3797749\ttotal: 1m 4s\tremaining: 26.8s\n",
            "141:\tlearn: 1.3797330\ttotal: 1m 4s\tremaining: 26.4s\n",
            "142:\tlearn: 1.3797151\ttotal: 1m 5s\tremaining: 25.9s\n",
            "143:\tlearn: 1.3796893\ttotal: 1m 5s\tremaining: 25.5s\n",
            "144:\tlearn: 1.3796699\ttotal: 1m 6s\tremaining: 25.1s\n",
            "145:\tlearn: 1.3796338\ttotal: 1m 6s\tremaining: 24.6s\n",
            "146:\tlearn: 1.3796128\ttotal: 1m 7s\tremaining: 24.2s\n",
            "147:\tlearn: 1.3795648\ttotal: 1m 7s\tremaining: 23.7s\n",
            "148:\tlearn: 1.3795230\ttotal: 1m 8s\tremaining: 23.3s\n",
            "149:\tlearn: 1.3794987\ttotal: 1m 8s\tremaining: 22.8s\n",
            "150:\tlearn: 1.3794836\ttotal: 1m 8s\tremaining: 22.4s\n",
            "151:\tlearn: 1.3794579\ttotal: 1m 9s\tremaining: 21.9s\n",
            "152:\tlearn: 1.3794243\ttotal: 1m 9s\tremaining: 21.5s\n",
            "153:\tlearn: 1.3794105\ttotal: 1m 10s\tremaining: 21s\n",
            "154:\tlearn: 1.3793887\ttotal: 1m 10s\tremaining: 20.5s\n",
            "155:\tlearn: 1.3793578\ttotal: 1m 11s\tremaining: 20.1s\n",
            "156:\tlearn: 1.3793241\ttotal: 1m 11s\tremaining: 19.6s\n",
            "157:\tlearn: 1.3793051\ttotal: 1m 12s\tremaining: 19.2s\n",
            "158:\tlearn: 1.3792896\ttotal: 1m 12s\tremaining: 18.7s\n",
            "159:\tlearn: 1.3792620\ttotal: 1m 13s\tremaining: 18.3s\n",
            "160:\tlearn: 1.3792354\ttotal: 1m 13s\tremaining: 17.8s\n",
            "161:\tlearn: 1.3791905\ttotal: 1m 14s\tremaining: 17.4s\n",
            "162:\tlearn: 1.3791393\ttotal: 1m 14s\tremaining: 16.9s\n",
            "163:\tlearn: 1.3791092\ttotal: 1m 15s\tremaining: 16.5s\n",
            "164:\tlearn: 1.3790851\ttotal: 1m 15s\tremaining: 16s\n",
            "165:\tlearn: 1.3790728\ttotal: 1m 15s\tremaining: 15.6s\n",
            "166:\tlearn: 1.3790363\ttotal: 1m 16s\tremaining: 15.1s\n",
            "167:\tlearn: 1.3790136\ttotal: 1m 16s\tremaining: 14.6s\n",
            "168:\tlearn: 1.3790016\ttotal: 1m 17s\tremaining: 14.2s\n",
            "169:\tlearn: 1.3789624\ttotal: 1m 17s\tremaining: 13.7s\n",
            "170:\tlearn: 1.3789330\ttotal: 1m 18s\tremaining: 13.3s\n",
            "171:\tlearn: 1.3789250\ttotal: 1m 18s\tremaining: 12.8s\n",
            "172:\tlearn: 1.3789018\ttotal: 1m 19s\tremaining: 12.4s\n",
            "173:\tlearn: 1.3788807\ttotal: 1m 19s\tremaining: 11.9s\n",
            "174:\tlearn: 1.3788512\ttotal: 1m 19s\tremaining: 11.4s\n",
            "175:\tlearn: 1.3787835\ttotal: 1m 20s\tremaining: 11s\n",
            "176:\tlearn: 1.3787525\ttotal: 1m 20s\tremaining: 10.5s\n",
            "177:\tlearn: 1.3787369\ttotal: 1m 21s\tremaining: 10.1s\n",
            "178:\tlearn: 1.3785571\ttotal: 1m 21s\tremaining: 9.6s\n",
            "179:\tlearn: 1.3785143\ttotal: 1m 22s\tremaining: 9.14s\n",
            "180:\tlearn: 1.3784569\ttotal: 1m 22s\tremaining: 8.69s\n",
            "181:\tlearn: 1.3784378\ttotal: 1m 23s\tremaining: 8.23s\n",
            "182:\tlearn: 1.3784048\ttotal: 1m 23s\tremaining: 7.78s\n",
            "183:\tlearn: 1.3783758\ttotal: 1m 24s\tremaining: 7.32s\n",
            "184:\tlearn: 1.3783419\ttotal: 1m 24s\tremaining: 6.87s\n",
            "185:\tlearn: 1.3783251\ttotal: 1m 25s\tremaining: 6.41s\n",
            "186:\tlearn: 1.3783013\ttotal: 1m 25s\tremaining: 5.96s\n",
            "187:\tlearn: 1.3782514\ttotal: 1m 26s\tremaining: 5.5s\n",
            "188:\tlearn: 1.3782183\ttotal: 1m 26s\tremaining: 5.04s\n",
            "189:\tlearn: 1.3781698\ttotal: 1m 27s\tremaining: 4.58s\n",
            "190:\tlearn: 1.3781323\ttotal: 1m 27s\tremaining: 4.12s\n",
            "191:\tlearn: 1.3781145\ttotal: 1m 28s\tremaining: 3.67s\n",
            "192:\tlearn: 1.3781029\ttotal: 1m 28s\tremaining: 3.21s\n",
            "193:\tlearn: 1.3780595\ttotal: 1m 28s\tremaining: 2.75s\n",
            "194:\tlearn: 1.3780400\ttotal: 1m 29s\tremaining: 2.29s\n",
            "195:\tlearn: 1.3780102\ttotal: 1m 29s\tremaining: 1.83s\n",
            "196:\tlearn: 1.3779661\ttotal: 1m 30s\tremaining: 1.38s\n",
            "197:\tlearn: 1.3779538\ttotal: 1m 30s\tremaining: 918ms\n",
            "198:\tlearn: 1.3779373\ttotal: 1m 31s\tremaining: 459ms\n",
            "199:\tlearn: 1.3778950\ttotal: 1m 31s\tremaining: 0us\n"
          ]
        },
        {
          "output_type": "execute_result",
          "data": {
            "text/plain": [
              "<catboost.core.CatBoostClassifier at 0x7f417e4a3590>"
            ]
          },
          "metadata": {},
          "execution_count": 62
        }
      ],
      "source": [
        "model.fit(X_train,y_train,cat_features = categorical_var,plot=False)"
      ]
    },
    {
      "cell_type": "code",
      "execution_count": 63,
      "metadata": {
        "trusted": true,
        "colab": {
          "base_uri": "https://localhost:8080/"
        },
        "id": "Z4uxzo7HXYPS",
        "outputId": "51fa1635-ddf6-4577-b9df-a1fe3a881f8a"
      },
      "outputs": [
        {
          "output_type": "stream",
          "name": "stdout",
          "text": [
            "\n",
            "Target on train data [[3]\n",
            " [3]\n",
            " [3]\n",
            " ...\n",
            " [3]\n",
            " [3]\n",
            " [3]]\n"
          ]
        }
      ],
      "source": [
        "predict_train = model.predict(X_train)\n",
        "print('\\nTarget on train data',predict_train)"
      ]
    },
    {
      "cell_type": "code",
      "execution_count": 64,
      "metadata": {
        "trusted": true,
        "colab": {
          "base_uri": "https://localhost:8080/"
        },
        "id": "TzgGpm44XYPS",
        "outputId": "a324505d-816f-485b-e6ea-066471acde4a"
      },
      "outputs": [
        {
          "output_type": "stream",
          "name": "stdout",
          "text": [
            "\n",
            "accuracy_score on train dataset :  0.26465041035353537\n"
          ]
        }
      ],
      "source": [
        "accuracy_train = accuracy_score(y_train,predict_train)\n",
        "print('\\naccuracy_score on train dataset : ', accuracy_train)"
      ]
    },
    {
      "cell_type": "code",
      "execution_count": 65,
      "metadata": {
        "trusted": true,
        "colab": {
          "base_uri": "https://localhost:8080/"
        },
        "id": "nbRITz_3XYPS",
        "outputId": "3bd8c75a-a221-4245-e218-eb9804d61f2c"
      },
      "outputs": [
        {
          "output_type": "stream",
          "name": "stdout",
          "text": [
            "\n",
            "Target on test data [[3]\n",
            " [3]\n",
            " [3]\n",
            " ...\n",
            " [1]\n",
            " [3]\n",
            " [3]]\n",
            "\n",
            "accuracy_score on test dataset :  0.19139835858585857\n"
          ]
        }
      ],
      "source": [
        "predict_test = model.predict(X_test)\n",
        "print('\\nTarget on test data',predict_test) \n",
        "\n",
        "# Accuracy Score on test dataset\n",
        "accuracy_test = accuracy_score(y_test,predict_test)\n",
        "print('\\naccuracy_score on test dataset : ', accuracy_test)"
      ]
    },
    {
      "cell_type": "markdown",
      "metadata": {
        "id": "MujJEmWKXYPS"
      },
      "source": [
        "- Logistic Regression"
      ]
    },
    {
      "cell_type": "code",
      "execution_count": 66,
      "metadata": {
        "trusted": true,
        "colab": {
          "base_uri": "https://localhost:8080/"
        },
        "id": "aB2IcyG0XYPT",
        "outputId": "464c1431-2406-4602-81c1-aec4e17a5076"
      },
      "outputs": [
        {
          "output_type": "execute_result",
          "data": {
            "text/plain": [
              "LogisticRegression()"
            ]
          },
          "metadata": {},
          "execution_count": 66
        }
      ],
      "source": [
        "from sklearn.linear_model import LogisticRegression\n",
        "model = LogisticRegression(solver = 'lbfgs')\n",
        "model.fit(X_train, y_train)"
      ]
    },
    {
      "cell_type": "code",
      "execution_count": 67,
      "metadata": {
        "trusted": true,
        "id": "MtnL6vXAXYPT"
      },
      "outputs": [],
      "source": [
        "# use the model to make predictions with the test data\n",
        "y_pred = model.predict(X_test)"
      ]
    },
    {
      "cell_type": "code",
      "execution_count": 68,
      "metadata": {
        "trusted": true,
        "colab": {
          "base_uri": "https://localhost:8080/"
        },
        "id": "VYpRqEn3XYPT",
        "outputId": "62ce5135-1545-436d-80b8-b153d769024c"
      },
      "outputs": [
        {
          "output_type": "execute_result",
          "data": {
            "text/plain": [
              "0.2401199494949495"
            ]
          },
          "metadata": {},
          "execution_count": 68
        }
      ],
      "source": [
        "from sklearn.metrics import accuracy_score\n",
        "accuracy_score(y_test,y_pred)"
      ]
    },
    {
      "cell_type": "code",
      "execution_count": null,
      "metadata": {
        "trusted": true,
        "id": "6PQz6GI8XYPT"
      },
      "outputs": [],
      "source": [
        "'''from sklearn.neighbors import KNeighborsClassifier\n",
        "\n",
        "knn = KNeighborsClassifier(n_neighbors=23)\n",
        "knn.fit(X_train, y_train)'''"
      ]
    },
    {
      "cell_type": "code",
      "execution_count": null,
      "metadata": {
        "trusted": true,
        "id": "Q2F06IzmXYPT"
      },
      "outputs": [],
      "source": [
        "'''y_pred_knn = knn.predict(X_test)'''"
      ]
    },
    {
      "cell_type": "code",
      "execution_count": null,
      "metadata": {
        "trusted": true,
        "id": "VVKyqkfQXYPT"
      },
      "outputs": [],
      "source": [
        "'''from sklearn.metrics import accuracy_score\n",
        "accuracy_score(y_test,y_pred_knn)'''"
      ]
    },
    {
      "cell_type": "code",
      "execution_count": null,
      "metadata": {
        "trusted": true,
        "id": "cKvrp6FPXYPT"
      },
      "outputs": [],
      "source": [
        "'''from sklearn.svm import SVC\n",
        "\n",
        "svm = SVC(kernel='linear',C=0.025, random_state=101)\n",
        "\n",
        "svm.fit(X_train, y_train)'''"
      ]
    },
    {
      "cell_type": "code",
      "execution_count": null,
      "metadata": {
        "trusted": true,
        "id": "B1oTcZ0vXYPU"
      },
      "outputs": [],
      "source": [
        "'''y_pred_svc = svc.predict(X_test)'''"
      ]
    },
    {
      "cell_type": "code",
      "execution_count": null,
      "metadata": {
        "trusted": true,
        "id": "IlLGHttpXYPU"
      },
      "outputs": [],
      "source": [
        "'''from sklearn.metrics import accuracy_score\n",
        "accuracy_score(y_test,y_pred_svc)'''"
      ]
    },
    {
      "cell_type": "code",
      "execution_count": 69,
      "metadata": {
        "trusted": true,
        "colab": {
          "base_uri": "https://localhost:8080/"
        },
        "id": "GSILhLYxXYPU",
        "outputId": "2623685b-db01-40cc-bfba-21f7d1cb7a03"
      },
      "outputs": [
        {
          "output_type": "execute_result",
          "data": {
            "text/plain": [
              "MultinomialNB()"
            ]
          },
          "metadata": {},
          "execution_count": 69
        }
      ],
      "source": [
        "from sklearn.naive_bayes import MultinomialNB\n",
        "\n",
        "mb = MultinomialNB()\n",
        "\n",
        "mb.fit(X_train, y_train)"
      ]
    },
    {
      "cell_type": "code",
      "execution_count": 70,
      "metadata": {
        "trusted": true,
        "id": "31jc44nmXYPU"
      },
      "outputs": [],
      "source": [
        "y_pred_mb = mb.predict(X_test)"
      ]
    },
    {
      "cell_type": "code",
      "execution_count": 71,
      "metadata": {
        "trusted": true,
        "colab": {
          "base_uri": "https://localhost:8080/"
        },
        "id": "mwego7QTXYPU",
        "outputId": "4be29411-33de-4214-d62a-c6c7aed3b34a"
      },
      "outputs": [
        {
          "output_type": "execute_result",
          "data": {
            "text/plain": [
              "0.24141414141414141"
            ]
          },
          "metadata": {},
          "execution_count": 71
        }
      ],
      "source": [
        "from sklearn.metrics import accuracy_score\n",
        "accuracy_score(y_test,y_pred_mb)"
      ]
    },
    {
      "cell_type": "markdown",
      "metadata": {
        "id": "McJdcR0UXYPU"
      },
      "source": [
        "- Neural network"
      ]
    },
    {
      "cell_type": "code",
      "execution_count": 72,
      "metadata": {
        "trusted": true,
        "colab": {
          "base_uri": "https://localhost:8080/"
        },
        "id": "xJsdSfFXXYPU",
        "outputId": "95ec306c-a167-403e-ec67-2d271a19ca40"
      },
      "outputs": [
        {
          "output_type": "execute_result",
          "data": {
            "text/plain": [
              "(253440, 4)"
            ]
          },
          "metadata": {},
          "execution_count": 72
        }
      ],
      "source": [
        "from keras.utils.np_utils import to_categorical\n",
        "y_train = to_categorical(y_train, num_classes = 4)\n",
        "y_train.shape"
      ]
    },
    {
      "cell_type": "code",
      "execution_count": 73,
      "metadata": {
        "trusted": true,
        "id": "r33c8gvHXYPV"
      },
      "outputs": [],
      "source": [
        "from keras.layers import Input,InputLayer, Dense, Activation, ZeroPadding2D, BatchNormalization, Flatten, Conv2D\n",
        "from keras.layers import AveragePooling2D, MaxPooling2D, Dropout\n",
        "from keras.models import Sequential,Model\n",
        "from keras.optimizers import SGD\n",
        "from keras.callbacks import ModelCheckpoint,LearningRateScheduler\n",
        "import keras\n",
        "from keras import backend as K"
      ]
    },
    {
      "cell_type": "code",
      "execution_count": 74,
      "metadata": {
        "trusted": true,
        "id": "t-562mt5XYPV"
      },
      "outputs": [],
      "source": [
        "model=keras.models.Sequential()\n",
        "#model.add(keras.layers.Flatten())\n",
        "model.add(keras.layers.Dense(128,activation='relu'))\n",
        "model.add(keras.layers.Dense(128,activation='relu'))\n",
        "model.add(keras.layers.Dense(128,activation='relu'))\n",
        "model.add(keras.layers.Dense(128,activation='relu'))\n",
        "model.add(keras.layers.Dense(128,activation='relu'))\n",
        "model.add(keras.layers.Dense(4,activation='softmax'))"
      ]
    },
    {
      "cell_type": "code",
      "execution_count": 75,
      "metadata": {
        "trusted": true,
        "colab": {
          "base_uri": "https://localhost:8080/"
        },
        "id": "lmeNEeeAXYPV",
        "outputId": "9c7fff84-54ef-48d5-cfe3-8f06b31c7e60"
      },
      "outputs": [
        {
          "output_type": "stream",
          "name": "stdout",
          "text": [
            "Epoch 1/10\n",
            "7920/7920 [==============================] - 30s 4ms/step - loss: 1.3865 - accuracy: 0.2492\n",
            "Epoch 2/10\n",
            "7920/7920 [==============================] - 25s 3ms/step - loss: 1.3864 - accuracy: 0.2489\n",
            "Epoch 3/10\n",
            "7920/7920 [==============================] - 25s 3ms/step - loss: 1.3864 - accuracy: 0.2514\n",
            "Epoch 4/10\n",
            "7920/7920 [==============================] - 24s 3ms/step - loss: 1.3864 - accuracy: 0.2513\n",
            "Epoch 5/10\n",
            "7920/7920 [==============================] - 24s 3ms/step - loss: 1.3864 - accuracy: 0.2505\n",
            "Epoch 6/10\n",
            "7920/7920 [==============================] - 24s 3ms/step - loss: 1.3864 - accuracy: 0.2500\n",
            "Epoch 7/10\n",
            "7920/7920 [==============================] - 25s 3ms/step - loss: 1.3864 - accuracy: 0.2485\n",
            "Epoch 8/10\n",
            "7920/7920 [==============================] - 24s 3ms/step - loss: 1.3864 - accuracy: 0.2495\n",
            "Epoch 9/10\n",
            "7920/7920 [==============================] - 24s 3ms/step - loss: 1.3864 - accuracy: 0.2490\n",
            "Epoch 10/10\n",
            "7920/7920 [==============================] - 24s 3ms/step - loss: 1.3864 - accuracy: 0.2517\n"
          ]
        },
        {
          "output_type": "execute_result",
          "data": {
            "text/plain": [
              "<keras.callbacks.History at 0x7f410ebff890>"
            ]
          },
          "metadata": {},
          "execution_count": 75
        }
      ],
      "source": [
        "model.compile(loss='categorical_crossentropy',\n",
        "              optimizer='adam',\n",
        "              metrics=['accuracy'])\n",
        "                   \n",
        "model.fit(X_train, y_train,epochs=10, batch_size=32, verbose=1)"
      ]
    },
    {
      "cell_type": "code",
      "execution_count": 76,
      "metadata": {
        "trusted": true,
        "colab": {
          "base_uri": "https://localhost:8080/"
        },
        "id": "uU9wUrTuXYPV",
        "outputId": "bde61c6c-c6c7-49a5-ac94-81e3c314be6b"
      },
      "outputs": [
        {
          "output_type": "stream",
          "name": "stdout",
          "text": [
            "1980/1980 [==============================] - 3s 1ms/step\n"
          ]
        }
      ],
      "source": [
        "y_pred = model.predict(X_test)\n",
        "y_pred = np.argmax(y_pred,axis=1)"
      ]
    },
    {
      "cell_type": "code",
      "execution_count": 77,
      "metadata": {
        "trusted": true,
        "colab": {
          "base_uri": "https://localhost:8080/"
        },
        "id": "cHRy3efEXYPV",
        "outputId": "567d33cc-f591-413b-8a6f-20a50c68e5d0"
      },
      "outputs": [
        {
          "output_type": "execute_result",
          "data": {
            "text/plain": [
              "array([1, 1, 1, ..., 1, 1, 1])"
            ]
          },
          "metadata": {},
          "execution_count": 77
        }
      ],
      "source": [
        "y_pred"
      ]
    },
    {
      "cell_type": "code",
      "source": [
        "!git add ."
      ],
      "metadata": {
        "id": "mKCvHnofcFCn"
      },
      "execution_count": 78,
      "outputs": []
    },
    {
      "cell_type": "code",
      "source": [
        "!git commit -m \"Data Trainings\""
      ],
      "metadata": {
        "colab": {
          "base_uri": "https://localhost:8080/"
        },
        "id": "Kxm8EcjVcIJi",
        "outputId": "769027cd-0574-4887-eb49-53ec45410b13"
      },
      "execution_count": 81,
      "outputs": [
        {
          "output_type": "stream",
          "name": "stdout",
          "text": [
            "[main 5170d81] Data Trainings\n",
            " 4 files changed, 606 insertions(+)\n",
            " create mode 100644 catboost_info/catboost_training.json\n",
            " create mode 100644 catboost_info/learn/events.out.tfevents\n",
            " create mode 100644 catboost_info/learn_error.tsv\n",
            " create mode 100644 catboost_info/time_left.tsv\n"
          ]
        }
      ]
    },
    {
      "cell_type": "code",
      "source": [
        "!git push -u origin main"
      ],
      "metadata": {
        "colab": {
          "base_uri": "https://localhost:8080/"
        },
        "id": "CCaURIwycXuf",
        "outputId": "2d2317f7-b643-4d97-ef01-7798b0125da3"
      },
      "execution_count": 82,
      "outputs": [
        {
          "output_type": "stream",
          "name": "stdout",
          "text": [
            "fatal: could not read Username for 'https://github.com': No such device or address\n"
          ]
        }
      ]
    }
  ],
  "metadata": {
    "kernelspec": {
      "display_name": "Python 3",
      "language": "python",
      "name": "python3"
    },
    "language_info": {
      "codemirror_mode": {
        "name": "ipython",
        "version": 3
      },
      "file_extension": ".py",
      "mimetype": "text/x-python",
      "name": "python",
      "nbconvert_exporter": "python",
      "pygments_lexer": "ipython3",
      "version": "3.6.4"
    },
    "colab": {
      "provenance": [],
      "include_colab_link": true
    }
  },
  "nbformat": 4,
  "nbformat_minor": 0
}